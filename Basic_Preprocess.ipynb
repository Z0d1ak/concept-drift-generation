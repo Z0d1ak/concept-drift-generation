{
 "cells": [
  {
   "cell_type": "code",
   "execution_count": 2,
   "id": "91ed0bff",
   "metadata": {},
   "outputs": [],
   "source": [
    "import pandas as pd\n",
    "import numpy as np\n",
    "from sklearn.linear_model import LinearRegression\n",
    "from sklearn.ensemble import RandomForestRegressor, RandomForestClassifier\n",
    "from sklearn.metrics import mean_squared_error\n",
    "from sklearn.inspection import permutation_importance\n",
    "from sklearn.linear_model import LogisticRegression\n",
    "from sklearn.naive_bayes import BernoulliNB, MultinomialNB \n",
    "from sklearn.linear_model import Perceptron\n",
    "from sklearn.feature_extraction.text import TfidfVectorizer,CountVectorizer\n",
    "import matplotlib.pyplot as plt\n",
    "from sklearn.model_selection import KFold\n",
    "from sklearn.model_selection import cross_validate\n",
    "from sklearn.datasets import make_classification\n",
    "from sklearn.linear_model import LogisticRegression\n",
    "from sklearn.model_selection import train_test_split\n",
    "from sklearn.metrics import roc_curve, auc\n",
    "from sklearn.metrics import roc_auc_score\n",
    "from matplotlib import pyplot as plt\n",
    "from wordcloud import WordCloud, STOPWORDS\n",
    "from sklearn.linear_model import LogisticRegression\n",
    "from sklearn.ensemble import ExtraTreesClassifier"
   ]
  },
  {
   "cell_type": "code",
   "execution_count": 60,
   "id": "42a64703",
   "metadata": {},
   "outputs": [],
   "source": [
    "df = pd.read_csv('geo-reviews-dataset-2023.tskv', sep='\\t', header=None)"
   ]
  },
  {
   "cell_type": "code",
   "execution_count": 61,
   "id": "eaf2b8d6",
   "metadata": {},
   "outputs": [
    {
     "data": {
      "text/plain": [
       "0    string[python]\n",
       "1    string[python]\n",
       "2    string[python]\n",
       "3    string[python]\n",
       "4    string[python]\n",
       "dtype: object"
      ]
     },
     "execution_count": 61,
     "metadata": {},
     "output_type": "execute_result"
    }
   ],
   "source": [
    "df = df.convert_dtypes()\n",
    "df.dtypes"
   ]
  },
  {
   "cell_type": "code",
   "execution_count": 62,
   "id": "eb551f0b",
   "metadata": {},
   "outputs": [],
   "source": [
    "df.columns = ['addres', 'name', 'rating', 'rubics', 'text']"
   ]
  },
  {
   "cell_type": "code",
   "execution_count": 63,
   "id": "02703fee",
   "metadata": {},
   "outputs": [],
   "source": [
    "def cleaner(val):\n",
    "    try:\n",
    "        idx = val.find('=')\n",
    "        return val[idx+1:]\n",
    "    except:\n",
    "        return None;"
   ]
  },
  {
   "cell_type": "code",
   "execution_count": 64,
   "id": "b1bc83bc",
   "metadata": {},
   "outputs": [],
   "source": [
    "df['addres'] = df['addres'].apply(cleaner)\n",
    "df['name'] = df['name'].apply(cleaner)\n",
    "df['rating'] = df['rating'].apply(cleaner)\n",
    "df['rubics'] = df['rubics'].apply(cleaner)\n",
    "df['text'] = df['text'].apply(cleaner)"
   ]
  },
  {
   "cell_type": "code",
   "execution_count": 69,
   "id": "ee2f7fbd",
   "metadata": {},
   "outputs": [
    {
     "data": {
      "text/html": [
       "<div>\n",
       "<style scoped>\n",
       "    .dataframe tbody tr th:only-of-type {\n",
       "        vertical-align: middle;\n",
       "    }\n",
       "\n",
       "    .dataframe tbody tr th {\n",
       "        vertical-align: top;\n",
       "    }\n",
       "\n",
       "    .dataframe thead th {\n",
       "        text-align: right;\n",
       "    }\n",
       "</style>\n",
       "<table border=\"1\" class=\"dataframe\">\n",
       "  <thead>\n",
       "    <tr style=\"text-align: right;\">\n",
       "      <th></th>\n",
       "      <th>addres</th>\n",
       "      <th>name</th>\n",
       "      <th>rating</th>\n",
       "      <th>rubics</th>\n",
       "      <th>text</th>\n",
       "    </tr>\n",
       "  </thead>\n",
       "  <tbody>\n",
       "    <tr>\n",
       "      <th>0</th>\n",
       "      <td>Екатеринбург, ул. Московская / ул. Волгоградск...</td>\n",
       "      <td>Московский квартал</td>\n",
       "      <td>3.</td>\n",
       "      <td>Жилой комплекс</td>\n",
       "      <td>Московский квартал 2.\\nШумно : летом по ночам ...</td>\n",
       "    </tr>\n",
       "    <tr>\n",
       "      <th>1</th>\n",
       "      <td>Московская область, Электросталь, проспект Лен...</td>\n",
       "      <td>Продукты Ермолино</td>\n",
       "      <td>5.</td>\n",
       "      <td>Магазин продуктов;Продукты глубокой заморозки;...</td>\n",
       "      <td>Замечательная сеть магазинов в общем, хороший ...</td>\n",
       "    </tr>\n",
       "    <tr>\n",
       "      <th>2</th>\n",
       "      <td>Краснодар, Прикубанский внутригородской округ,...</td>\n",
       "      <td>LimeFit</td>\n",
       "      <td>1.</td>\n",
       "      <td>Фитнес-клуб</td>\n",
       "      <td>Не знаю смутят ли кого-то данные правила, но я...</td>\n",
       "    </tr>\n",
       "    <tr>\n",
       "      <th>3</th>\n",
       "      <td>Санкт-Петербург, проспект Энгельса, 111, корп. 1</td>\n",
       "      <td>Snow-Express</td>\n",
       "      <td>4.</td>\n",
       "      <td>Пункт проката;Прокат велосипедов;Сапсёрфинг</td>\n",
       "      <td>Хорошие условия аренды. \\nДружелюбный персонал...</td>\n",
       "    </tr>\n",
       "    <tr>\n",
       "      <th>4</th>\n",
       "      <td>Тверь, Волоколамский проспект, 39</td>\n",
       "      <td>Студия Beauty Brow</td>\n",
       "      <td>5.</td>\n",
       "      <td>Салон красоты;Визажисты, стилисты;Салон бровей...</td>\n",
       "      <td>Топ мастер Ангелина топ во всех смыслах ) Немн...</td>\n",
       "    </tr>\n",
       "    <tr>\n",
       "      <th>...</th>\n",
       "      <td>...</td>\n",
       "      <td>...</td>\n",
       "      <td>...</td>\n",
       "      <td>...</td>\n",
       "      <td>...</td>\n",
       "    </tr>\n",
       "    <tr>\n",
       "      <th>499994</th>\n",
       "      <td>Москва, Южный административный округ, район Би...</td>\n",
       "      <td>Бирюлёво-Пассажирская</td>\n",
       "      <td>5.</td>\n",
       "      <td>Железнодорожная станция</td>\n",
       "      <td>Хороший способ избежать автобусной пытки. Элек...</td>\n",
       "    </tr>\n",
       "    <tr>\n",
       "      <th>499995</th>\n",
       "      <td>Москва, Южный административный округ, район Би...</td>\n",
       "      <td>Бирюлёво-Пассажирская</td>\n",
       "      <td>4.</td>\n",
       "      <td>Железнодорожная станция</td>\n",
       "      <td>Охрана кривая но добрая, двери не закрываются ...</td>\n",
       "    </tr>\n",
       "    <tr>\n",
       "      <th>499996</th>\n",
       "      <td>Москва, Южный административный округ, район Би...</td>\n",
       "      <td>Бирюлёво-Пассажирская</td>\n",
       "      <td>4.</td>\n",
       "      <td>Железнодорожная станция</td>\n",
       "      <td>По сравнению со многими современными платформа...</td>\n",
       "    </tr>\n",
       "    <tr>\n",
       "      <th>499998</th>\n",
       "      <td>Астраханская область, Харабалинский район</td>\n",
       "      <td>Сарай-Бату</td>\n",
       "      <td>5.</td>\n",
       "      <td>Достопримечательность</td>\n",
       "      <td>Был с семьёй 13.06.23 Отличное место. Рекоменд...</td>\n",
       "    </tr>\n",
       "    <tr>\n",
       "      <th>499999</th>\n",
       "      <td>Астраханская область, Харабалинский район</td>\n",
       "      <td>Сарай-Бату</td>\n",
       "      <td>5.</td>\n",
       "      <td>Достопримечательность</td>\n",
       "      <td>Отличные декорации... Вблизи тяп-ляп,а на фото...</td>\n",
       "    </tr>\n",
       "  </tbody>\n",
       "</table>\n",
       "<p>499030 rows × 5 columns</p>\n",
       "</div>"
      ],
      "text/plain": [
       "                                                   addres  \\\n",
       "0       Екатеринбург, ул. Московская / ул. Волгоградск...   \n",
       "1       Московская область, Электросталь, проспект Лен...   \n",
       "2       Краснодар, Прикубанский внутригородской округ,...   \n",
       "3        Санкт-Петербург, проспект Энгельса, 111, корп. 1   \n",
       "4                       Тверь, Волоколамский проспект, 39   \n",
       "...                                                   ...   \n",
       "499994  Москва, Южный административный округ, район Би...   \n",
       "499995  Москва, Южный административный округ, район Би...   \n",
       "499996  Москва, Южный административный округ, район Би...   \n",
       "499998          Астраханская область, Харабалинский район   \n",
       "499999          Астраханская область, Харабалинский район   \n",
       "\n",
       "                         name rating  \\\n",
       "0          Московский квартал     3.   \n",
       "1           Продукты Ермолино     5.   \n",
       "2                     LimeFit     1.   \n",
       "3                Snow-Express     4.   \n",
       "4          Студия Beauty Brow     5.   \n",
       "...                       ...    ...   \n",
       "499994  Бирюлёво-Пассажирская     5.   \n",
       "499995  Бирюлёво-Пассажирская     4.   \n",
       "499996  Бирюлёво-Пассажирская     4.   \n",
       "499998             Сарай-Бату     5.   \n",
       "499999             Сарай-Бату     5.   \n",
       "\n",
       "                                                   rubics  \\\n",
       "0                                          Жилой комплекс   \n",
       "1       Магазин продуктов;Продукты глубокой заморозки;...   \n",
       "2                                             Фитнес-клуб   \n",
       "3             Пункт проката;Прокат велосипедов;Сапсёрфинг   \n",
       "4       Салон красоты;Визажисты, стилисты;Салон бровей...   \n",
       "...                                                   ...   \n",
       "499994                            Железнодорожная станция   \n",
       "499995                            Железнодорожная станция   \n",
       "499996                            Железнодорожная станция   \n",
       "499998                              Достопримечательность   \n",
       "499999                              Достопримечательность   \n",
       "\n",
       "                                                     text  \n",
       "0       Московский квартал 2.\\nШумно : летом по ночам ...  \n",
       "1       Замечательная сеть магазинов в общем, хороший ...  \n",
       "2       Не знаю смутят ли кого-то данные правила, но я...  \n",
       "3       Хорошие условия аренды. \\nДружелюбный персонал...  \n",
       "4       Топ мастер Ангелина топ во всех смыслах ) Немн...  \n",
       "...                                                   ...  \n",
       "499994  Хороший способ избежать автобусной пытки. Элек...  \n",
       "499995  Охрана кривая но добрая, двери не закрываются ...  \n",
       "499996  По сравнению со многими современными платформа...  \n",
       "499998  Был с семьёй 13.06.23 Отличное место. Рекоменд...  \n",
       "499999  Отличные декорации... Вблизи тяп-ляп,а на фото...  \n",
       "\n",
       "[499030 rows x 5 columns]"
      ]
     },
     "execution_count": 69,
     "metadata": {},
     "output_type": "execute_result"
    }
   ],
   "source": [
    "df = df.dropna()\n",
    "df"
   ]
  },
  {
   "cell_type": "code",
   "execution_count": 87,
   "id": "ffa8726a",
   "metadata": {},
   "outputs": [],
   "source": [
    "df.to_csv(filename)"
   ]
  },
  {
   "cell_type": "code",
   "execution_count": 86,
   "id": "e370fb3c",
   "metadata": {},
   "outputs": [
    {
     "data": {
      "text/plain": [
       "'/Users/k0tarak/Datasets/yandex_maps_reviews.csv'"
      ]
     },
     "execution_count": 86,
     "metadata": {},
     "output_type": "execute_result"
    }
   ],
   "source": [
    "import os\n",
    "from os.path import join\n",
    "filename = join(os.environ[\"HOME\"], \"Datasets/yandex_maps_reviews.csv\")"
   ]
  },
  {
   "cell_type": "code",
   "execution_count": null,
   "id": "1966a6fb",
   "metadata": {},
   "outputs": [],
   "source": []
  }
 ],
 "metadata": {
  "kernelspec": {
   "display_name": "Python 3 (ipykernel)",
   "language": "python",
   "name": "python3"
  },
  "language_info": {
   "codemirror_mode": {
    "name": "ipython",
    "version": 3
   },
   "file_extension": ".py",
   "mimetype": "text/x-python",
   "name": "python",
   "nbconvert_exporter": "python",
   "pygments_lexer": "ipython3",
   "version": "3.11.8"
  }
 },
 "nbformat": 4,
 "nbformat_minor": 5
}
