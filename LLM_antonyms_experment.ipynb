{
 "cells": [
  {
   "cell_type": "code",
   "execution_count": 2,
   "id": "2fbddbab-1e24-49f1-bfef-49500a3a4ab3",
   "metadata": {},
   "outputs": [],
   "source": [
    "import pandas as pd\n",
    "import numpy as np\n",
    "import urllib.request\n",
    "import requests\n",
    "import pandas as pd\n",
    "import numpy as np\n",
    "from sklearn.linear_model import LinearRegression\n",
    "from sklearn.ensemble import RandomForestRegressor, RandomForestClassifier\n",
    "from sklearn.metrics import mean_squared_error\n",
    "from sklearn.inspection import permutation_importance\n",
    "from sklearn.linear_model import LogisticRegression\n",
    "from sklearn.naive_bayes import BernoulliNB, MultinomialNB \n",
    "from sklearn.linear_model import Perceptron\n",
    "from sklearn.feature_extraction.text import TfidfVectorizer,CountVectorizer\n",
    "import matplotlib.pyplot as plt\n",
    "from sklearn.model_selection import KFold\n",
    "from sklearn.model_selection import cross_validate\n",
    "from sklearn.datasets import make_classification\n",
    "from sklearn.linear_model import LogisticRegression\n",
    "from sklearn.model_selection import train_test_split\n",
    "from sklearn.metrics import roc_curve, auc\n",
    "from sklearn.metrics import roc_auc_score\n",
    "from matplotlib import pyplot as plt\n",
    "from wordcloud import WordCloud, STOPWORDS\n",
    "from sklearn.linear_model import LogisticRegression\n",
    "from sklearn.ensemble import ExtraTreesClassifier\n",
    "from sklearn.datasets import fetch_20newsgroups\n",
    "from sklearn.feature_extraction.text import TfidfVectorizer\n",
    "from sklearn.naive_bayes import MultinomialNB\n",
    "from sklearn.model_selection import train_test_split\n",
    "from sklearn.metrics import accuracy_score, classification_report\n",
    "import re\n",
    "from pymystem3 import Mystem\n",
    "from stop_words import get_stop_words\n",
    "from transformers import pipeline\n",
    "import json\n",
    "import os\n",
    "from os.path import join"
   ]
  },
  {
   "cell_type": "code",
   "execution_count": 24,
   "id": "fbe76c5a-4e0b-4fa0-92b3-1a0c2115306a",
   "metadata": {},
   "outputs": [
    {
     "data": {
      "text/html": [
       "<div>\n",
       "<style scoped>\n",
       "    .dataframe tbody tr th:only-of-type {\n",
       "        vertical-align: middle;\n",
       "    }\n",
       "\n",
       "    .dataframe tbody tr th {\n",
       "        vertical-align: top;\n",
       "    }\n",
       "\n",
       "    .dataframe thead th {\n",
       "        text-align: right;\n",
       "    }\n",
       "</style>\n",
       "<table border=\"1\" class=\"dataframe\">\n",
       "  <thead>\n",
       "    <tr style=\"text-align: right;\">\n",
       "      <th></th>\n",
       "      <th>rating</th>\n",
       "      <th>text</th>\n",
       "      <th>req_id</th>\n",
       "      <th>text_converted</th>\n",
       "    </tr>\n",
       "  </thead>\n",
       "  <tbody>\n",
       "    <tr>\n",
       "      <th>0</th>\n",
       "      <td>5.0</td>\n",
       "      <td>Приятное место. Обедали компанией в субботу. М...</td>\n",
       "      <td>d7qdtrqejohtsbou5vrt</td>\n",
       "      <td>НевдохноВительное место. Ужинали в одиночку в ...</td>\n",
       "    </tr>\n",
       "    <tr>\n",
       "      <th>1</th>\n",
       "      <td>4.0</td>\n",
       "      <td>Хорошее кафе, есть для детей игровой уголок и ...</td>\n",
       "      <td>d7qc1e1b9js18oqgk1sl</td>\n",
       "      <td>Плохое кафе, нет для детей игрового уголка и д...</td>\n",
       "    </tr>\n",
       "    <tr>\n",
       "      <th>2</th>\n",
       "      <td>4.0</td>\n",
       "      <td>\\n4 с минусом. Туалет это дичь просто. Если ты...</td>\n",
       "      <td>d7qe7m906d2iugace0oa</td>\n",
       "      <td>4 с плюсом. Туалет — это для кого как… Если вы...</td>\n",
       "    </tr>\n",
       "    <tr>\n",
       "      <th>3</th>\n",
       "      <td>5.0</td>\n",
       "      <td>Прекрасное заведение и атмосфера. Все было оче...</td>\n",
       "      <td>d7qenpbd3ju94apa5kcl</td>\n",
       "      <td>Обычное заведение и плохая атмосфера. Всё было...</td>\n",
       "    </tr>\n",
       "    <tr>\n",
       "      <th>4</th>\n",
       "      <td>5.0</td>\n",
       "      <td>Вежливый персонал, быстрая скорость отдачи зак...</td>\n",
       "      <td>d7qkb7ovkblv3m03ot78</td>\n",
       "      <td>Грубый персонал, медленная скорость отдачи зак...</td>\n",
       "    </tr>\n",
       "    <tr>\n",
       "      <th>...</th>\n",
       "      <td>...</td>\n",
       "      <td>...</td>\n",
       "      <td>...</td>\n",
       "      <td>...</td>\n",
       "    </tr>\n",
       "    <tr>\n",
       "      <th>4995</th>\n",
       "      <td>3.0</td>\n",
       "      <td>Посмотрели на супер отзывы и пришли сюда за Ку...</td>\n",
       "      <td>d7q4fgje6f5aehqvu1p2</td>\n",
       "      <td>Прочитали негативные отзывы и зашли сюда в пои...</td>\n",
       "    </tr>\n",
       "    <tr>\n",
       "      <th>4996</th>\n",
       "      <td>5.0</td>\n",
       "      <td>Любимое место уже на протяжении многих лет ❤️ ...</td>\n",
       "      <td>d7quqlv85ppkv8vs7hsr</td>\n",
       "      <td>Нелюбимое место на протяжении многих лет ☹️ ча...</td>\n",
       "    </tr>\n",
       "    <tr>\n",
       "      <th>4997</th>\n",
       "      <td>5.0</td>\n",
       "      <td>Очень вкусное и свежее пиво по замечательной ц...</td>\n",
       "      <td>d7qja44vtt4jiocquitj</td>\n",
       "      <td>Невкусное и несвежее пиво за неоправданно высо...</td>\n",
       "    </tr>\n",
       "    <tr>\n",
       "      <th>4998</th>\n",
       "      <td>5.0</td>\n",
       "      <td>Место не дешевое, но очень уютное. Прекрасный ...</td>\n",
       "      <td>d7qo97i695n56i6n7i8e</td>\n",
       "      <td>Место недешёвое, зато очень уютное. Скромный п...</td>\n",
       "    </tr>\n",
       "    <tr>\n",
       "      <th>4999</th>\n",
       "      <td>5.0</td>\n",
       "      <td>Недавно посетили это заведение и настолько все...</td>\n",
       "      <td>d7q14gsjh7vehva07fj7</td>\n",
       "      <td>Недавно посетили это место и настолько всё не ...</td>\n",
       "    </tr>\n",
       "  </tbody>\n",
       "</table>\n",
       "<p>5000 rows × 4 columns</p>\n",
       "</div>"
      ],
      "text/plain": [
       "      rating                                               text  \\\n",
       "0        5.0  Приятное место. Обедали компанией в субботу. М...   \n",
       "1        4.0  Хорошее кафе, есть для детей игровой уголок и ...   \n",
       "2        4.0  \\n4 с минусом. Туалет это дичь просто. Если ты...   \n",
       "3        5.0  Прекрасное заведение и атмосфера. Все было оче...   \n",
       "4        5.0  Вежливый персонал, быстрая скорость отдачи зак...   \n",
       "...      ...                                                ...   \n",
       "4995     3.0  Посмотрели на супер отзывы и пришли сюда за Ку...   \n",
       "4996     5.0  Любимое место уже на протяжении многих лет ❤️ ...   \n",
       "4997     5.0  Очень вкусное и свежее пиво по замечательной ц...   \n",
       "4998     5.0  Место не дешевое, но очень уютное. Прекрасный ...   \n",
       "4999     5.0  Недавно посетили это заведение и настолько все...   \n",
       "\n",
       "                    req_id                                     text_converted  \n",
       "0     d7qdtrqejohtsbou5vrt  НевдохноВительное место. Ужинали в одиночку в ...  \n",
       "1     d7qc1e1b9js18oqgk1sl  Плохое кафе, нет для детей игрового уголка и д...  \n",
       "2     d7qe7m906d2iugace0oa  4 с плюсом. Туалет — это для кого как… Если вы...  \n",
       "3     d7qenpbd3ju94apa5kcl  Обычное заведение и плохая атмосфера. Всё было...  \n",
       "4     d7qkb7ovkblv3m03ot78  Грубый персонал, медленная скорость отдачи зак...  \n",
       "...                    ...                                                ...  \n",
       "4995  d7q4fgje6f5aehqvu1p2  Прочитали негативные отзывы и зашли сюда в пои...  \n",
       "4996  d7quqlv85ppkv8vs7hsr  Нелюбимое место на протяжении многих лет ☹️ ча...  \n",
       "4997  d7qja44vtt4jiocquitj  Невкусное и несвежее пиво за неоправданно высо...  \n",
       "4998  d7qo97i695n56i6n7i8e  Место недешёвое, зато очень уютное. Скромный п...  \n",
       "4999  d7q14gsjh7vehva07fj7  Недавно посетили это место и настолько всё не ...  \n",
       "\n",
       "[5000 rows x 4 columns]"
      ]
     },
     "execution_count": 24,
     "metadata": {},
     "output_type": "execute_result"
    }
   ],
   "source": [
    "data_test_filename = join(os.environ[\"HOME\"], \"Datasets/llm_antonyms.csv\")\n",
    "df_test = pd.read_csv(data_test_filename, sep=',', index_col=False)\n",
    "df_test"
   ]
  },
  {
   "cell_type": "code",
   "execution_count": 30,
   "id": "27703b51-474a-4dcc-9614-cf78368d7113",
   "metadata": {},
   "outputs": [
    {
     "data": {
      "text/html": [
       "<div>\n",
       "<style scoped>\n",
       "    .dataframe tbody tr th:only-of-type {\n",
       "        vertical-align: middle;\n",
       "    }\n",
       "\n",
       "    .dataframe tbody tr th {\n",
       "        vertical-align: top;\n",
       "    }\n",
       "\n",
       "    .dataframe thead th {\n",
       "        text-align: right;\n",
       "    }\n",
       "</style>\n",
       "<table border=\"1\" class=\"dataframe\">\n",
       "  <thead>\n",
       "    <tr style=\"text-align: right;\">\n",
       "      <th></th>\n",
       "      <th>rating</th>\n",
       "      <th>text</th>\n",
       "      <th>req_id</th>\n",
       "      <th>text_converted</th>\n",
       "    </tr>\n",
       "  </thead>\n",
       "  <tbody>\n",
       "    <tr>\n",
       "      <th>0</th>\n",
       "      <td>5.0</td>\n",
       "      <td>Приятное место. Обедали компанией в субботу. М...</td>\n",
       "      <td>d7qdtrqejohtsbou5vrt</td>\n",
       "      <td>НевдохноВительное место. Ужинали в одиночку в ...</td>\n",
       "    </tr>\n",
       "    <tr>\n",
       "      <th>1</th>\n",
       "      <td>4.0</td>\n",
       "      <td>Хорошее кафе, есть для детей игровой уголок и ...</td>\n",
       "      <td>d7qc1e1b9js18oqgk1sl</td>\n",
       "      <td>Плохое кафе, нет для детей игрового уголка и д...</td>\n",
       "    </tr>\n",
       "    <tr>\n",
       "      <th>2</th>\n",
       "      <td>4.0</td>\n",
       "      <td>\\n4 с минусом. Туалет это дичь просто. Если ты...</td>\n",
       "      <td>d7qe7m906d2iugace0oa</td>\n",
       "      <td>4 с плюсом. Туалет — это для кого как… Если вы...</td>\n",
       "    </tr>\n",
       "    <tr>\n",
       "      <th>3</th>\n",
       "      <td>5.0</td>\n",
       "      <td>Прекрасное заведение и атмосфера. Все было оче...</td>\n",
       "      <td>d7qenpbd3ju94apa5kcl</td>\n",
       "      <td>Обычное заведение и плохая атмосфера. Всё было...</td>\n",
       "    </tr>\n",
       "    <tr>\n",
       "      <th>4</th>\n",
       "      <td>5.0</td>\n",
       "      <td>Вежливый персонал, быстрая скорость отдачи зак...</td>\n",
       "      <td>d7qkb7ovkblv3m03ot78</td>\n",
       "      <td>Грубый персонал, медленная скорость отдачи зак...</td>\n",
       "    </tr>\n",
       "    <tr>\n",
       "      <th>...</th>\n",
       "      <td>...</td>\n",
       "      <td>...</td>\n",
       "      <td>...</td>\n",
       "      <td>...</td>\n",
       "    </tr>\n",
       "    <tr>\n",
       "      <th>4995</th>\n",
       "      <td>3.0</td>\n",
       "      <td>Посмотрели на супер отзывы и пришли сюда за Ку...</td>\n",
       "      <td>d7q4fgje6f5aehqvu1p2</td>\n",
       "      <td>Прочитали негативные отзывы и зашли сюда в пои...</td>\n",
       "    </tr>\n",
       "    <tr>\n",
       "      <th>4996</th>\n",
       "      <td>5.0</td>\n",
       "      <td>Любимое место уже на протяжении многих лет ❤️ ...</td>\n",
       "      <td>d7quqlv85ppkv8vs7hsr</td>\n",
       "      <td>Нелюбимое место на протяжении многих лет ☹️ ча...</td>\n",
       "    </tr>\n",
       "    <tr>\n",
       "      <th>4997</th>\n",
       "      <td>5.0</td>\n",
       "      <td>Очень вкусное и свежее пиво по замечательной ц...</td>\n",
       "      <td>d7qja44vtt4jiocquitj</td>\n",
       "      <td>Невкусное и несвежее пиво за неоправданно высо...</td>\n",
       "    </tr>\n",
       "    <tr>\n",
       "      <th>4998</th>\n",
       "      <td>5.0</td>\n",
       "      <td>Место не дешевое, но очень уютное. Прекрасный ...</td>\n",
       "      <td>d7qo97i695n56i6n7i8e</td>\n",
       "      <td>Место недешёвое, зато очень уютное. Скромный п...</td>\n",
       "    </tr>\n",
       "    <tr>\n",
       "      <th>4999</th>\n",
       "      <td>5.0</td>\n",
       "      <td>Недавно посетили это заведение и настолько все...</td>\n",
       "      <td>d7q14gsjh7vehva07fj7</td>\n",
       "      <td>Недавно посетили это место и настолько всё не ...</td>\n",
       "    </tr>\n",
       "  </tbody>\n",
       "</table>\n",
       "<p>4985 rows × 4 columns</p>\n",
       "</div>"
      ],
      "text/plain": [
       "      rating                                               text  \\\n",
       "0        5.0  Приятное место. Обедали компанией в субботу. М...   \n",
       "1        4.0  Хорошее кафе, есть для детей игровой уголок и ...   \n",
       "2        4.0  \\n4 с минусом. Туалет это дичь просто. Если ты...   \n",
       "3        5.0  Прекрасное заведение и атмосфера. Все было оче...   \n",
       "4        5.0  Вежливый персонал, быстрая скорость отдачи зак...   \n",
       "...      ...                                                ...   \n",
       "4995     3.0  Посмотрели на супер отзывы и пришли сюда за Ку...   \n",
       "4996     5.0  Любимое место уже на протяжении многих лет ❤️ ...   \n",
       "4997     5.0  Очень вкусное и свежее пиво по замечательной ц...   \n",
       "4998     5.0  Место не дешевое, но очень уютное. Прекрасный ...   \n",
       "4999     5.0  Недавно посетили это заведение и настолько все...   \n",
       "\n",
       "                    req_id                                     text_converted  \n",
       "0     d7qdtrqejohtsbou5vrt  НевдохноВительное место. Ужинали в одиночку в ...  \n",
       "1     d7qc1e1b9js18oqgk1sl  Плохое кафе, нет для детей игрового уголка и д...  \n",
       "2     d7qe7m906d2iugace0oa  4 с плюсом. Туалет — это для кого как… Если вы...  \n",
       "3     d7qenpbd3ju94apa5kcl  Обычное заведение и плохая атмосфера. Всё было...  \n",
       "4     d7qkb7ovkblv3m03ot78  Грубый персонал, медленная скорость отдачи зак...  \n",
       "...                    ...                                                ...  \n",
       "4995  d7q4fgje6f5aehqvu1p2  Прочитали негативные отзывы и зашли сюда в пои...  \n",
       "4996  d7quqlv85ppkv8vs7hsr  Нелюбимое место на протяжении многих лет ☹️ ча...  \n",
       "4997  d7qja44vtt4jiocquitj  Невкусное и несвежее пиво за неоправданно высо...  \n",
       "4998  d7qo97i695n56i6n7i8e  Место недешёвое, зато очень уютное. Скромный п...  \n",
       "4999  d7q14gsjh7vehva07fj7  Недавно посетили это место и настолько всё не ...  \n",
       "\n",
       "[4985 rows x 4 columns]"
      ]
     },
     "execution_count": 30,
     "metadata": {},
     "output_type": "execute_result"
    }
   ],
   "source": [
    "df_feltered = df_test[df_test['text_converted'].str.contains('[а-яА-Я]', na=False)]\n",
    "df_test = df_feltered.copy()"
   ]
  },
  {
   "cell_type": "code",
   "execution_count": 70,
   "id": "bf68cc01-e540-4178-b143-fefd8fa687cc",
   "metadata": {},
   "outputs": [
    {
     "data": {
      "text/html": [
       "<div>\n",
       "<style scoped>\n",
       "    .dataframe tbody tr th:only-of-type {\n",
       "        vertical-align: middle;\n",
       "    }\n",
       "\n",
       "    .dataframe tbody tr th {\n",
       "        vertical-align: top;\n",
       "    }\n",
       "\n",
       "    .dataframe thead th {\n",
       "        text-align: right;\n",
       "    }\n",
       "</style>\n",
       "<table border=\"1\" class=\"dataframe\">\n",
       "  <thead>\n",
       "    <tr style=\"text-align: right;\">\n",
       "      <th></th>\n",
       "      <th>rating</th>\n",
       "      <th>text</th>\n",
       "    </tr>\n",
       "  </thead>\n",
       "  <tbody>\n",
       "    <tr>\n",
       "      <th>0</th>\n",
       "      <td>4.0</td>\n",
       "      <td>Ресторан в центре Москвы, в замечательном мест...</td>\n",
       "    </tr>\n",
       "    <tr>\n",
       "      <th>1</th>\n",
       "      <td>4.0</td>\n",
       "      <td>Кухня не плохая, довольно таки вкусно. Но для ...</td>\n",
       "    </tr>\n",
       "    <tr>\n",
       "      <th>2</th>\n",
       "      <td>5.0</td>\n",
       "      <td>Отличный ресторан, попробовали очень много блю...</td>\n",
       "    </tr>\n",
       "    <tr>\n",
       "      <th>3</th>\n",
       "      <td>4.0</td>\n",
       "      <td>Бизнес-встречу здесь планировать провально , а...</td>\n",
       "    </tr>\n",
       "    <tr>\n",
       "      <th>4</th>\n",
       "      <td>5.0</td>\n",
       "      <td>Завтракали в этом ресторане при гостинице. Все...</td>\n",
       "    </tr>\n",
       "    <tr>\n",
       "      <th>...</th>\n",
       "      <td>...</td>\n",
       "      <td>...</td>\n",
       "    </tr>\n",
       "    <tr>\n",
       "      <th>495</th>\n",
       "      <td>3.0</td>\n",
       "      <td>Еда была не вкусная. Тыквенный суп слишком кис...</td>\n",
       "    </tr>\n",
       "    <tr>\n",
       "      <th>496</th>\n",
       "      <td>5.0</td>\n",
       "      <td>Кафе прекрасное. Средний чек на двоих(2000 с ч...</td>\n",
       "    </tr>\n",
       "    <tr>\n",
       "      <th>497</th>\n",
       "      <td>5.0</td>\n",
       "      <td>Просто волшебно, невероятно, бесподобно! \\nСка...</td>\n",
       "    </tr>\n",
       "    <tr>\n",
       "      <th>498</th>\n",
       "      <td>5.0</td>\n",
       "      <td>В данном ресторане люблю бывать. Нравится все:...</td>\n",
       "    </tr>\n",
       "    <tr>\n",
       "      <th>499</th>\n",
       "      <td>5.0</td>\n",
       "      <td>Был с женой на новый год, кстати единственное ...</td>\n",
       "    </tr>\n",
       "  </tbody>\n",
       "</table>\n",
       "<p>500 rows × 2 columns</p>\n",
       "</div>"
      ],
      "text/plain": [
       "     rating                                               text\n",
       "0       4.0  Ресторан в центре Москвы, в замечательном мест...\n",
       "1       4.0  Кухня не плохая, довольно таки вкусно. Но для ...\n",
       "2       5.0  Отличный ресторан, попробовали очень много блю...\n",
       "3       4.0  Бизнес-встречу здесь планировать провально , а...\n",
       "4       5.0  Завтракали в этом ресторане при гостинице. Все...\n",
       "..      ...                                                ...\n",
       "495     3.0  Еда была не вкусная. Тыквенный суп слишком кис...\n",
       "496     5.0  Кафе прекрасное. Средний чек на двоих(2000 с ч...\n",
       "497     5.0  Просто волшебно, невероятно, бесподобно! \\nСка...\n",
       "498     5.0  В данном ресторане люблю бывать. Нравится все:...\n",
       "499     5.0  Был с женой на новый год, кстати единственное ...\n",
       "\n",
       "[500 rows x 2 columns]"
      ]
     },
     "execution_count": 70,
     "metadata": {},
     "output_type": "execute_result"
    }
   ],
   "source": [
    "data_train_filename = join(os.environ[\"HOME\"], \"Datasets/yandex_data_train.csv\")\n",
    "df_train = pd.read_csv(data_train_filename, sep=',', index_col=False, usecols=lambda column: column not in ['Unnamed: 0'])\n",
    "df_train.head(500)"
   ]
  },
  {
   "cell_type": "code",
   "execution_count": 32,
   "id": "124a3390-71ba-418f-9c5f-f8a63b44d64e",
   "metadata": {},
   "outputs": [],
   "source": [
    "stop_words = get_stop_words('russian')\n",
    "def remove_russian_stop_words(text):\n",
    "    words = text.split()\n",
    "    filtered_words = [word for word in words if word.lower() not in stop_words]\n",
    "    return ' '.join(filtered_words)\n",
    "\n",
    "mystem = Mystem()\n",
    "# Function to apply stemming to Russian text\n",
    "def stem_russian_text(text):\n",
    "    tokens = mystem.lemmatize(text)\n",
    "    return ''.join(tokens)\n",
    "\n",
    "\n",
    "def prepare(data, col='text'):\n",
    "    # Step 1: Remove punctuation from the text column\n",
    "    data[col] = data[col].apply(lambda x: re.sub(r'[^\\w\\s]', ' ', x))\n",
    "\n",
    "    # Step 2: Remove stop words from the text column\n",
    "    data[col] = data[col].apply(remove_russian_stop_words)\n",
    "    data[col] = data[col].apply(stem_russian_text)\n"
   ]
  },
  {
   "cell_type": "code",
   "execution_count": 33,
   "id": "71ccf06f-e6cf-4a96-98ca-3e27caf21d23",
   "metadata": {},
   "outputs": [
    {
     "name": "stderr",
     "output_type": "stream",
     "text": [
      "/var/folders/m0/w4ll3q093gn3rx7bm5rtb2wh0000gn/T/ipykernel_5971/3926272427.py:16: SettingWithCopyWarning: \n",
      "A value is trying to be set on a copy of a slice from a DataFrame.\n",
      "Try using .loc[row_indexer,col_indexer] = value instead\n",
      "\n",
      "See the caveats in the documentation: https://pandas.pydata.org/pandas-docs/stable/user_guide/indexing.html#returning-a-view-versus-a-copy\n",
      "  data[col] = data[col].apply(lambda x: re.sub(r'[^\\w\\s]', ' ', x))\n",
      "/var/folders/m0/w4ll3q093gn3rx7bm5rtb2wh0000gn/T/ipykernel_5971/3926272427.py:19: SettingWithCopyWarning: \n",
      "A value is trying to be set on a copy of a slice from a DataFrame.\n",
      "Try using .loc[row_indexer,col_indexer] = value instead\n",
      "\n",
      "See the caveats in the documentation: https://pandas.pydata.org/pandas-docs/stable/user_guide/indexing.html#returning-a-view-versus-a-copy\n",
      "  data[col] = data[col].apply(remove_russian_stop_words)\n",
      "/var/folders/m0/w4ll3q093gn3rx7bm5rtb2wh0000gn/T/ipykernel_5971/3926272427.py:20: SettingWithCopyWarning: \n",
      "A value is trying to be set on a copy of a slice from a DataFrame.\n",
      "Try using .loc[row_indexer,col_indexer] = value instead\n",
      "\n",
      "See the caveats in the documentation: https://pandas.pydata.org/pandas-docs/stable/user_guide/indexing.html#returning-a-view-versus-a-copy\n",
      "  data[col] = data[col].apply(stem_russian_text)\n"
     ]
    }
   ],
   "source": [
    "prepare(df_test)\n",
    "prepare(df_test, 'text_converted')\n",
    "prepare(df_train)"
   ]
  },
  {
   "cell_type": "code",
   "execution_count": 35,
   "id": "6c49d4c0-5a7b-484c-9963-e92551a3ac56",
   "metadata": {},
   "outputs": [
    {
     "name": "stdout",
     "output_type": "stream",
     "text": [
      "Большой непривлекательным дом стоит на холме .\n"
     ]
    }
   ],
   "source": [
    "from nltk.tokenize import word_tokenize\n",
    "\n",
    "# Define a function to swap adjectives with their antonyms in a text\n",
    "def swap_adjectives(text):\n",
    "    tokens = word_tokenize(text, language='russian')\n",
    "    swapped_text = []\n",
    "    for token in tokens:\n",
    "        if token in ant:\n",
    "            swapped_text.append(ant[token])\n",
    "        elif token in ant_adv:\n",
    "            swapped_text.append(ant_adv[token])\n",
    "        else:\n",
    "            swapped_text.append(token)\n",
    "    return ' '.join(swapped_text)\n",
    "\n",
    "# Example usage\n",
    "text = \"Большой красивый дом стоит на холме.\"\n",
    "swapped_text = swap_adjectives(text)\n",
    "print(swapped_text)"
   ]
  },
  {
   "cell_type": "code",
   "execution_count": 36,
   "id": "02daf0f0-792a-4d66-b7a4-a1b1a46771ac",
   "metadata": {},
   "outputs": [
    {
     "data": {
      "text/plain": [
       "0        приятный место обедать компания суббота место ...\n",
       "1        хороший кафе ребенок игровой уголок детский ме...\n",
       "2        n4 минус туалет дичь мужчина вставать унитаз п...\n",
       "3        прекрасный заведение атмосфера вкусно божестве...\n",
       "4        вежливый персонал быстрый скорость отдача зака...\n",
       "                               ...                        \n",
       "27655    заказывать доставка привозить упаковывать быст...\n",
       "27656    доброжелательный место отличный интерьер музык...\n",
       "27657    хорший ресторанчик набережнрй город герой прек...\n",
       "27658    вкусный кафе относительно демократичный цена п...\n",
       "27659    отличный кафе кухня супер вкусно быстро владик...\n",
       "Name: text, Length: 27660, dtype: object"
      ]
     },
     "execution_count": 36,
     "metadata": {},
     "output_type": "execute_result"
    }
   ],
   "source": [
    "df_test[\"text\"]"
   ]
  },
  {
   "cell_type": "code",
   "execution_count": 37,
   "id": "2b32b8e3-f214-4a84-b08d-dcb3f1c0e766",
   "metadata": {},
   "outputs": [],
   "source": [
    "df_test[\"text_ant\"] = df_test['text'].apply(swap_adjectives)"
   ]
  },
  {
   "cell_type": "code",
   "execution_count": 34,
   "id": "7891213e-e1cc-4a21-b763-1625e3d48cdd",
   "metadata": {},
   "outputs": [
    {
     "data": {
      "text/plain": [
       "0       ресторан центр москва замечательный место хоро...\n",
       "1       кухня плохой таки вкусно обстановка подвал дор...\n",
       "2       отличный ресторан попробовать блюдо вкусно пер...\n",
       "3       бизнес встреча планировать провальный проводит...\n",
       "4       завтракать ресторан гостиница невероятно вкусн...\n",
       "                              ...                        \n",
       "4995    прочитывать негативный отзыв зайти сюда поиск ...\n",
       "4996    нелюбимый место протяжение многий огорчать сер...\n",
       "4997    невкусный несвежий пиво неоправданно высокий ц...\n",
       "4998    место недешевый уютный скромный персонал напит...\n",
       "4999    посещать место настолько понравиться передумыв...\n",
       "Length: 74507, dtype: object"
      ]
     },
     "execution_count": 34,
     "metadata": {},
     "output_type": "execute_result"
    }
   ],
   "source": [
    "df_all = pd.concat([df_train['text'], df_test['text'], df_test['text_converted']])\n",
    "df_all"
   ]
  },
  {
   "cell_type": "code",
   "execution_count": 35,
   "id": "b3f8e112-cf72-4357-8504-f26e4f002912",
   "metadata": {},
   "outputs": [
    {
     "data": {
      "text/html": [
       "<style>#sk-container-id-1 {color: black;background-color: white;}#sk-container-id-1 pre{padding: 0;}#sk-container-id-1 div.sk-toggleable {background-color: white;}#sk-container-id-1 label.sk-toggleable__label {cursor: pointer;display: block;width: 100%;margin-bottom: 0;padding: 0.3em;box-sizing: border-box;text-align: center;}#sk-container-id-1 label.sk-toggleable__label-arrow:before {content: \"▸\";float: left;margin-right: 0.25em;color: #696969;}#sk-container-id-1 label.sk-toggleable__label-arrow:hover:before {color: black;}#sk-container-id-1 div.sk-estimator:hover label.sk-toggleable__label-arrow:before {color: black;}#sk-container-id-1 div.sk-toggleable__content {max-height: 0;max-width: 0;overflow: hidden;text-align: left;background-color: #f0f8ff;}#sk-container-id-1 div.sk-toggleable__content pre {margin: 0.2em;color: black;border-radius: 0.25em;background-color: #f0f8ff;}#sk-container-id-1 input.sk-toggleable__control:checked~div.sk-toggleable__content {max-height: 200px;max-width: 100%;overflow: auto;}#sk-container-id-1 input.sk-toggleable__control:checked~label.sk-toggleable__label-arrow:before {content: \"▾\";}#sk-container-id-1 div.sk-estimator input.sk-toggleable__control:checked~label.sk-toggleable__label {background-color: #d4ebff;}#sk-container-id-1 div.sk-label input.sk-toggleable__control:checked~label.sk-toggleable__label {background-color: #d4ebff;}#sk-container-id-1 input.sk-hidden--visually {border: 0;clip: rect(1px 1px 1px 1px);clip: rect(1px, 1px, 1px, 1px);height: 1px;margin: -1px;overflow: hidden;padding: 0;position: absolute;width: 1px;}#sk-container-id-1 div.sk-estimator {font-family: monospace;background-color: #f0f8ff;border: 1px dotted black;border-radius: 0.25em;box-sizing: border-box;margin-bottom: 0.5em;}#sk-container-id-1 div.sk-estimator:hover {background-color: #d4ebff;}#sk-container-id-1 div.sk-parallel-item::after {content: \"\";width: 100%;border-bottom: 1px solid gray;flex-grow: 1;}#sk-container-id-1 div.sk-label:hover label.sk-toggleable__label {background-color: #d4ebff;}#sk-container-id-1 div.sk-serial::before {content: \"\";position: absolute;border-left: 1px solid gray;box-sizing: border-box;top: 0;bottom: 0;left: 50%;z-index: 0;}#sk-container-id-1 div.sk-serial {display: flex;flex-direction: column;align-items: center;background-color: white;padding-right: 0.2em;padding-left: 0.2em;position: relative;}#sk-container-id-1 div.sk-item {position: relative;z-index: 1;}#sk-container-id-1 div.sk-parallel {display: flex;align-items: stretch;justify-content: center;background-color: white;position: relative;}#sk-container-id-1 div.sk-item::before, #sk-container-id-1 div.sk-parallel-item::before {content: \"\";position: absolute;border-left: 1px solid gray;box-sizing: border-box;top: 0;bottom: 0;left: 50%;z-index: -1;}#sk-container-id-1 div.sk-parallel-item {display: flex;flex-direction: column;z-index: 1;position: relative;background-color: white;}#sk-container-id-1 div.sk-parallel-item:first-child::after {align-self: flex-end;width: 50%;}#sk-container-id-1 div.sk-parallel-item:last-child::after {align-self: flex-start;width: 50%;}#sk-container-id-1 div.sk-parallel-item:only-child::after {width: 0;}#sk-container-id-1 div.sk-dashed-wrapped {border: 1px dashed gray;margin: 0 0.4em 0.5em 0.4em;box-sizing: border-box;padding-bottom: 0.4em;background-color: white;}#sk-container-id-1 div.sk-label label {font-family: monospace;font-weight: bold;display: inline-block;line-height: 1.2em;}#sk-container-id-1 div.sk-label-container {text-align: center;}#sk-container-id-1 div.sk-container {/* jupyter's `normalize.less` sets `[hidden] { display: none; }` but bootstrap.min.css set `[hidden] { display: none !important; }` so we also need the `!important` here to be able to override the default hidden behavior on the sphinx rendered scikit-learn.org. See: https://github.com/scikit-learn/scikit-learn/issues/21755 */display: inline-block !important;position: relative;}#sk-container-id-1 div.sk-text-repr-fallback {display: none;}</style><div id=\"sk-container-id-1\" class=\"sk-top-container\"><div class=\"sk-text-repr-fallback\"><pre>TfidfVectorizer()</pre><b>In a Jupyter environment, please rerun this cell to show the HTML representation or trust the notebook. <br />On GitHub, the HTML representation is unable to render, please try loading this page with nbviewer.org.</b></div><div class=\"sk-container\" hidden><div class=\"sk-item\"><div class=\"sk-estimator sk-toggleable\"><input class=\"sk-toggleable__control sk-hidden--visually\" id=\"sk-estimator-id-1\" type=\"checkbox\" checked><label for=\"sk-estimator-id-1\" class=\"sk-toggleable__label sk-toggleable__label-arrow\">TfidfVectorizer</label><div class=\"sk-toggleable__content\"><pre>TfidfVectorizer()</pre></div></div></div></div></div>"
      ],
      "text/plain": [
       "TfidfVectorizer()"
      ]
     },
     "execution_count": 35,
     "metadata": {},
     "output_type": "execute_result"
    }
   ],
   "source": [
    "vectorizer = TfidfVectorizer()\n",
    "vectorizer.fit(df_all)"
   ]
  },
  {
   "cell_type": "code",
   "execution_count": 96,
   "id": "1555bb92-d9f8-42ee-a555-fed8a7f60ffc",
   "metadata": {},
   "outputs": [
    {
     "data": {
      "text/html": [
       "<div>\n",
       "<style scoped>\n",
       "    .dataframe tbody tr th:only-of-type {\n",
       "        vertical-align: middle;\n",
       "    }\n",
       "\n",
       "    .dataframe tbody tr th {\n",
       "        vertical-align: top;\n",
       "    }\n",
       "\n",
       "    .dataframe thead th {\n",
       "        text-align: right;\n",
       "    }\n",
       "</style>\n",
       "<table border=\"1\" class=\"dataframe\">\n",
       "  <thead>\n",
       "    <tr style=\"text-align: right;\">\n",
       "      <th></th>\n",
       "      <th>rating</th>\n",
       "      <th>text</th>\n",
       "    </tr>\n",
       "  </thead>\n",
       "  <tbody>\n",
       "    <tr>\n",
       "      <th>0</th>\n",
       "      <td>4.0</td>\n",
       "      <td>Ресторан в центре Москвы, в замечательном мест...</td>\n",
       "    </tr>\n",
       "    <tr>\n",
       "      <th>1</th>\n",
       "      <td>4.0</td>\n",
       "      <td>Кухня не плохая, довольно таки вкусно. Но для ...</td>\n",
       "    </tr>\n",
       "    <tr>\n",
       "      <th>2</th>\n",
       "      <td>5.0</td>\n",
       "      <td>Отличный ресторан, попробовали очень много блю...</td>\n",
       "    </tr>\n",
       "    <tr>\n",
       "      <th>3</th>\n",
       "      <td>4.0</td>\n",
       "      <td>Бизнес-встречу здесь планировать провально , а...</td>\n",
       "    </tr>\n",
       "    <tr>\n",
       "      <th>4</th>\n",
       "      <td>5.0</td>\n",
       "      <td>Завтракали в этом ресторане при гостинице. Все...</td>\n",
       "    </tr>\n",
       "    <tr>\n",
       "      <th>...</th>\n",
       "      <td>...</td>\n",
       "      <td>...</td>\n",
       "    </tr>\n",
       "    <tr>\n",
       "      <th>64532</th>\n",
       "      <td>4.0</td>\n",
       "      <td>Чтобы получить отзыв 5,0  нужно очень постарат...</td>\n",
       "    </tr>\n",
       "    <tr>\n",
       "      <th>64533</th>\n",
       "      <td>5.0</td>\n",
       "      <td>Очень уютное кафе! Была там несколько раз. Пер...</td>\n",
       "    </tr>\n",
       "    <tr>\n",
       "      <th>64534</th>\n",
       "      <td>3.0</td>\n",
       "      <td>Невозможно заказать с доставкой, мало мест для...</td>\n",
       "    </tr>\n",
       "    <tr>\n",
       "      <th>64535</th>\n",
       "      <td>5.0</td>\n",
       "      <td>Доброжелательный персонал. Вкусная еда, хороша...</td>\n",
       "    </tr>\n",
       "    <tr>\n",
       "      <th>64536</th>\n",
       "      <td>5.0</td>\n",
       "      <td>Все очень отлично 👍 .Вкусное питание!!!Магазин...</td>\n",
       "    </tr>\n",
       "  </tbody>\n",
       "</table>\n",
       "<p>64537 rows × 2 columns</p>\n",
       "</div>"
      ],
      "text/plain": [
       "       rating                                               text\n",
       "0         4.0  Ресторан в центре Москвы, в замечательном мест...\n",
       "1         4.0  Кухня не плохая, довольно таки вкусно. Но для ...\n",
       "2         5.0  Отличный ресторан, попробовали очень много блю...\n",
       "3         4.0  Бизнес-встречу здесь планировать провально , а...\n",
       "4         5.0  Завтракали в этом ресторане при гостинице. Все...\n",
       "...       ...                                                ...\n",
       "64532     4.0  Чтобы получить отзыв 5,0  нужно очень постарат...\n",
       "64533     5.0  Очень уютное кафе! Была там несколько раз. Пер...\n",
       "64534     3.0  Невозможно заказать с доставкой, мало мест для...\n",
       "64535     5.0  Доброжелательный персонал. Вкусная еда, хороша...\n",
       "64536     5.0  Все очень отлично 👍 .Вкусное питание!!!Магазин...\n",
       "\n",
       "[64537 rows x 2 columns]"
      ]
     },
     "execution_count": 96,
     "metadata": {},
     "output_type": "execute_result"
    }
   ],
   "source": []
  },
  {
   "cell_type": "code",
   "execution_count": 75,
   "id": "f5e26581-e9a0-4ccd-adab-35cb16171563",
   "metadata": {},
   "outputs": [],
   "source": [
    "X_train = vectorizer.transform(df_train['text'])\n",
    "y_train = df_train['rating'].apply(lambda x: x > 4)\n",
    "\n",
    "X_test = vectorizer.transform(df_test['text'])\n",
    "X_drift_tesst = vectorizer.transform(df_test['text_converted'])\n",
    "y_test = df_test['rating'].apply(lambda x: x > 4)"
   ]
  },
  {
   "cell_type": "code",
   "execution_count": 76,
   "id": "3ddf8ed3-07a8-4054-a1d2-fa7671a02fbc",
   "metadata": {},
   "outputs": [
    {
     "data": {
      "text/html": [
       "<style>#sk-container-id-13 {color: black;background-color: white;}#sk-container-id-13 pre{padding: 0;}#sk-container-id-13 div.sk-toggleable {background-color: white;}#sk-container-id-13 label.sk-toggleable__label {cursor: pointer;display: block;width: 100%;margin-bottom: 0;padding: 0.3em;box-sizing: border-box;text-align: center;}#sk-container-id-13 label.sk-toggleable__label-arrow:before {content: \"▸\";float: left;margin-right: 0.25em;color: #696969;}#sk-container-id-13 label.sk-toggleable__label-arrow:hover:before {color: black;}#sk-container-id-13 div.sk-estimator:hover label.sk-toggleable__label-arrow:before {color: black;}#sk-container-id-13 div.sk-toggleable__content {max-height: 0;max-width: 0;overflow: hidden;text-align: left;background-color: #f0f8ff;}#sk-container-id-13 div.sk-toggleable__content pre {margin: 0.2em;color: black;border-radius: 0.25em;background-color: #f0f8ff;}#sk-container-id-13 input.sk-toggleable__control:checked~div.sk-toggleable__content {max-height: 200px;max-width: 100%;overflow: auto;}#sk-container-id-13 input.sk-toggleable__control:checked~label.sk-toggleable__label-arrow:before {content: \"▾\";}#sk-container-id-13 div.sk-estimator input.sk-toggleable__control:checked~label.sk-toggleable__label {background-color: #d4ebff;}#sk-container-id-13 div.sk-label input.sk-toggleable__control:checked~label.sk-toggleable__label {background-color: #d4ebff;}#sk-container-id-13 input.sk-hidden--visually {border: 0;clip: rect(1px 1px 1px 1px);clip: rect(1px, 1px, 1px, 1px);height: 1px;margin: -1px;overflow: hidden;padding: 0;position: absolute;width: 1px;}#sk-container-id-13 div.sk-estimator {font-family: monospace;background-color: #f0f8ff;border: 1px dotted black;border-radius: 0.25em;box-sizing: border-box;margin-bottom: 0.5em;}#sk-container-id-13 div.sk-estimator:hover {background-color: #d4ebff;}#sk-container-id-13 div.sk-parallel-item::after {content: \"\";width: 100%;border-bottom: 1px solid gray;flex-grow: 1;}#sk-container-id-13 div.sk-label:hover label.sk-toggleable__label {background-color: #d4ebff;}#sk-container-id-13 div.sk-serial::before {content: \"\";position: absolute;border-left: 1px solid gray;box-sizing: border-box;top: 0;bottom: 0;left: 50%;z-index: 0;}#sk-container-id-13 div.sk-serial {display: flex;flex-direction: column;align-items: center;background-color: white;padding-right: 0.2em;padding-left: 0.2em;position: relative;}#sk-container-id-13 div.sk-item {position: relative;z-index: 1;}#sk-container-id-13 div.sk-parallel {display: flex;align-items: stretch;justify-content: center;background-color: white;position: relative;}#sk-container-id-13 div.sk-item::before, #sk-container-id-13 div.sk-parallel-item::before {content: \"\";position: absolute;border-left: 1px solid gray;box-sizing: border-box;top: 0;bottom: 0;left: 50%;z-index: -1;}#sk-container-id-13 div.sk-parallel-item {display: flex;flex-direction: column;z-index: 1;position: relative;background-color: white;}#sk-container-id-13 div.sk-parallel-item:first-child::after {align-self: flex-end;width: 50%;}#sk-container-id-13 div.sk-parallel-item:last-child::after {align-self: flex-start;width: 50%;}#sk-container-id-13 div.sk-parallel-item:only-child::after {width: 0;}#sk-container-id-13 div.sk-dashed-wrapped {border: 1px dashed gray;margin: 0 0.4em 0.5em 0.4em;box-sizing: border-box;padding-bottom: 0.4em;background-color: white;}#sk-container-id-13 div.sk-label label {font-family: monospace;font-weight: bold;display: inline-block;line-height: 1.2em;}#sk-container-id-13 div.sk-label-container {text-align: center;}#sk-container-id-13 div.sk-container {/* jupyter's `normalize.less` sets `[hidden] { display: none; }` but bootstrap.min.css set `[hidden] { display: none !important; }` so we also need the `!important` here to be able to override the default hidden behavior on the sphinx rendered scikit-learn.org. See: https://github.com/scikit-learn/scikit-learn/issues/21755 */display: inline-block !important;position: relative;}#sk-container-id-13 div.sk-text-repr-fallback {display: none;}</style><div id=\"sk-container-id-13\" class=\"sk-top-container\"><div class=\"sk-text-repr-fallback\"><pre>MultinomialNB(alpha=0.2)</pre><b>In a Jupyter environment, please rerun this cell to show the HTML representation or trust the notebook. <br />On GitHub, the HTML representation is unable to render, please try loading this page with nbviewer.org.</b></div><div class=\"sk-container\" hidden><div class=\"sk-item\"><div class=\"sk-estimator sk-toggleable\"><input class=\"sk-toggleable__control sk-hidden--visually\" id=\"sk-estimator-id-13\" type=\"checkbox\" checked><label for=\"sk-estimator-id-13\" class=\"sk-toggleable__label sk-toggleable__label-arrow\">MultinomialNB</label><div class=\"sk-toggleable__content\"><pre>MultinomialNB(alpha=0.2)</pre></div></div></div></div></div>"
      ],
      "text/plain": [
       "MultinomialNB(alpha=0.2)"
      ]
     },
     "execution_count": 76,
     "metadata": {},
     "output_type": "execute_result"
    }
   ],
   "source": [
    "clf = MultinomialNB(alpha=0.2)\n",
    "clf.fit(X_train, y_train)"
   ]
  },
  {
   "cell_type": "code",
   "execution_count": 77,
   "id": "f300037f-0c0b-4171-a3e2-39eab357c756",
   "metadata": {},
   "outputs": [
    {
     "name": "stdout",
     "output_type": "stream",
     "text": [
      "Accuracy: 0.8720160481444333\n",
      "              precision    recall  f1-score   support\n",
      "\n",
      "  Not 5 star       0.85      0.57      0.68      1199\n",
      "      5 star       0.88      0.97      0.92      3786\n",
      "\n",
      "    accuracy                           0.87      4985\n",
      "   macro avg       0.86      0.77      0.80      4985\n",
      "weighted avg       0.87      0.87      0.86      4985\n",
      "\n"
     ]
    }
   ],
   "source": [
    "# NO DRIFT\n",
    "y_pred = clf.predict(X_test)\n",
    "\n",
    "# Step 6: Evaluate the model\n",
    "accuracy = accuracy_score(y_test, y_pred)\n",
    "print(\"Accuracy:\", accuracy)\n",
    "print(classification_report(y_test, y_pred, target_names=[\"Not 5 star\", \"5 star\"]))"
   ]
  },
  {
   "cell_type": "code",
   "execution_count": 78,
   "id": "ed2c4214-6f52-45d1-ae42-6cb3b009726d",
   "metadata": {},
   "outputs": [
    {
     "name": "stdout",
     "output_type": "stream",
     "text": [
      "Accuracy: 0.4164493480441324\n",
      "              precision    recall  f1-score   support\n",
      "\n",
      "  Not 5 star       0.26      0.75      0.38      1199\n",
      "      5 star       0.80      0.31      0.45      3786\n",
      "\n",
      "    accuracy                           0.42      4985\n",
      "   macro avg       0.53      0.53      0.41      4985\n",
      "weighted avg       0.67      0.42      0.43      4985\n",
      "\n"
     ]
    }
   ],
   "source": [
    "#  DRIFT\n",
    "y_pred = clf.predict(X_drift_tesst)\n",
    "\n",
    "# Step 6: Evaluate the model\n",
    "accuracy = accuracy_score(y_test, y_pred)\n",
    "print(\"Accuracy:\", accuracy)\n",
    "print(classification_report(y_test, y_pred, target_names=[\"Not 5 star\", \"5 star\"]))"
   ]
  },
  {
   "cell_type": "code",
   "execution_count": 88,
   "id": "89a9a85d-4597-45a2-8fe4-04681bb27e8e",
   "metadata": {},
   "outputs": [],
   "source": [
    "X_test_retrain, X_test_30, y_test_retrain, y_test_30 = train_test_split(X_drift_tesst, y_test, test_size=0.4, random_state=42)"
   ]
  },
  {
   "cell_type": "code",
   "execution_count": 89,
   "id": "de86cd3d-7c83-4c21-abde-8f19d051cf48",
   "metadata": {},
   "outputs": [
    {
     "data": {
      "text/html": [
       "<style>#sk-container-id-17 {color: black;background-color: white;}#sk-container-id-17 pre{padding: 0;}#sk-container-id-17 div.sk-toggleable {background-color: white;}#sk-container-id-17 label.sk-toggleable__label {cursor: pointer;display: block;width: 100%;margin-bottom: 0;padding: 0.3em;box-sizing: border-box;text-align: center;}#sk-container-id-17 label.sk-toggleable__label-arrow:before {content: \"▸\";float: left;margin-right: 0.25em;color: #696969;}#sk-container-id-17 label.sk-toggleable__label-arrow:hover:before {color: black;}#sk-container-id-17 div.sk-estimator:hover label.sk-toggleable__label-arrow:before {color: black;}#sk-container-id-17 div.sk-toggleable__content {max-height: 0;max-width: 0;overflow: hidden;text-align: left;background-color: #f0f8ff;}#sk-container-id-17 div.sk-toggleable__content pre {margin: 0.2em;color: black;border-radius: 0.25em;background-color: #f0f8ff;}#sk-container-id-17 input.sk-toggleable__control:checked~div.sk-toggleable__content {max-height: 200px;max-width: 100%;overflow: auto;}#sk-container-id-17 input.sk-toggleable__control:checked~label.sk-toggleable__label-arrow:before {content: \"▾\";}#sk-container-id-17 div.sk-estimator input.sk-toggleable__control:checked~label.sk-toggleable__label {background-color: #d4ebff;}#sk-container-id-17 div.sk-label input.sk-toggleable__control:checked~label.sk-toggleable__label {background-color: #d4ebff;}#sk-container-id-17 input.sk-hidden--visually {border: 0;clip: rect(1px 1px 1px 1px);clip: rect(1px, 1px, 1px, 1px);height: 1px;margin: -1px;overflow: hidden;padding: 0;position: absolute;width: 1px;}#sk-container-id-17 div.sk-estimator {font-family: monospace;background-color: #f0f8ff;border: 1px dotted black;border-radius: 0.25em;box-sizing: border-box;margin-bottom: 0.5em;}#sk-container-id-17 div.sk-estimator:hover {background-color: #d4ebff;}#sk-container-id-17 div.sk-parallel-item::after {content: \"\";width: 100%;border-bottom: 1px solid gray;flex-grow: 1;}#sk-container-id-17 div.sk-label:hover label.sk-toggleable__label {background-color: #d4ebff;}#sk-container-id-17 div.sk-serial::before {content: \"\";position: absolute;border-left: 1px solid gray;box-sizing: border-box;top: 0;bottom: 0;left: 50%;z-index: 0;}#sk-container-id-17 div.sk-serial {display: flex;flex-direction: column;align-items: center;background-color: white;padding-right: 0.2em;padding-left: 0.2em;position: relative;}#sk-container-id-17 div.sk-item {position: relative;z-index: 1;}#sk-container-id-17 div.sk-parallel {display: flex;align-items: stretch;justify-content: center;background-color: white;position: relative;}#sk-container-id-17 div.sk-item::before, #sk-container-id-17 div.sk-parallel-item::before {content: \"\";position: absolute;border-left: 1px solid gray;box-sizing: border-box;top: 0;bottom: 0;left: 50%;z-index: -1;}#sk-container-id-17 div.sk-parallel-item {display: flex;flex-direction: column;z-index: 1;position: relative;background-color: white;}#sk-container-id-17 div.sk-parallel-item:first-child::after {align-self: flex-end;width: 50%;}#sk-container-id-17 div.sk-parallel-item:last-child::after {align-self: flex-start;width: 50%;}#sk-container-id-17 div.sk-parallel-item:only-child::after {width: 0;}#sk-container-id-17 div.sk-dashed-wrapped {border: 1px dashed gray;margin: 0 0.4em 0.5em 0.4em;box-sizing: border-box;padding-bottom: 0.4em;background-color: white;}#sk-container-id-17 div.sk-label label {font-family: monospace;font-weight: bold;display: inline-block;line-height: 1.2em;}#sk-container-id-17 div.sk-label-container {text-align: center;}#sk-container-id-17 div.sk-container {/* jupyter's `normalize.less` sets `[hidden] { display: none; }` but bootstrap.min.css set `[hidden] { display: none !important; }` so we also need the `!important` here to be able to override the default hidden behavior on the sphinx rendered scikit-learn.org. See: https://github.com/scikit-learn/scikit-learn/issues/21755 */display: inline-block !important;position: relative;}#sk-container-id-17 div.sk-text-repr-fallback {display: none;}</style><div id=\"sk-container-id-17\" class=\"sk-top-container\"><div class=\"sk-text-repr-fallback\"><pre>MultinomialNB(alpha=0.2)</pre><b>In a Jupyter environment, please rerun this cell to show the HTML representation or trust the notebook. <br />On GitHub, the HTML representation is unable to render, please try loading this page with nbviewer.org.</b></div><div class=\"sk-container\" hidden><div class=\"sk-item\"><div class=\"sk-estimator sk-toggleable\"><input class=\"sk-toggleable__control sk-hidden--visually\" id=\"sk-estimator-id-17\" type=\"checkbox\" checked><label for=\"sk-estimator-id-17\" class=\"sk-toggleable__label sk-toggleable__label-arrow\">MultinomialNB</label><div class=\"sk-toggleable__content\"><pre>MultinomialNB(alpha=0.2)</pre></div></div></div></div></div>"
      ],
      "text/plain": [
       "MultinomialNB(alpha=0.2)"
      ]
     },
     "execution_count": 89,
     "metadata": {},
     "output_type": "execute_result"
    }
   ],
   "source": [
    "clf.partial_fit(X_test_retrain, y_test_retrain)"
   ]
  },
  {
   "cell_type": "code",
   "execution_count": 90,
   "id": "f39d70a4-5dcd-469b-939c-7ab87a818b88",
   "metadata": {},
   "outputs": [
    {
     "name": "stdout",
     "output_type": "stream",
     "text": [
      "Accuracy: 0.8515546639919759\n",
      "              precision    recall  f1-score   support\n",
      "\n",
      "  Not 5 star       0.88      0.48      0.62       504\n",
      "      5 star       0.85      0.98      0.91      1490\n",
      "\n",
      "    accuracy                           0.85      1994\n",
      "   macro avg       0.86      0.73      0.76      1994\n",
      "weighted avg       0.85      0.85      0.84      1994\n",
      "\n"
     ]
    }
   ],
   "source": [
    "y_pred = clf.predict(X_test_30)\n",
    "\n",
    "# Step 6: Evaluate the model\n",
    "accuracy = accuracy_score(y_test_30, y_pred)\n",
    "print(\"Accuracy:\", accuracy)\n",
    "print(classification_report(y_test_30, y_pred, target_names=[\"Not 5 star\", \"5 star\"]))"
   ]
  },
  {
   "cell_type": "code",
   "execution_count": 101,
   "id": "fca734ae-8305-4a41-9eac-763035b44967",
   "metadata": {},
   "outputs": [
    {
     "name": "stdout",
     "output_type": "stream",
     "text": [
      "0.0\n",
      "Data drift detected!\n"
     ]
    }
   ],
   "source": [
    "import pandas as pd\n",
    "from collections import Counter\n",
    "import numpy as np\n",
    "from scipy.stats import ks_2samp\n",
    "\n",
    "def calculate_word_frequencies(text_data):\n",
    "    # Tokenize text and count word frequencies\n",
    "    tokenized_text = [word for sentence in text_data for word in sentence.split()]\n",
    "    word_freq = Counter(tokenized_text)\n",
    "    return word_freq\n",
    "\n",
    "def detect_data_drift(part1_data, part2_data):\n",
    "    # Calculate word frequencies for each part\n",
    "    part1_word_freq = calculate_word_frequencies(part1_data)\n",
    "    part2_word_freq = calculate_word_frequencies(part2_data)\n",
    "\n",
    "    # Extract word frequencies and sort by word\n",
    "    part1_word_freq_values = np.array(list(part1_word_freq.values()))\n",
    "    part2_word_freq_values = np.array(list(part2_word_freq.values()))\n",
    "\n",
    "    # Calculate Kolmogorov-Smirnov statistic\n",
    "    ks_statistic, p_value = ks_2samp(part1_word_freq_values, part2_word_freq_values)\n",
    "\n",
    "    # Define a threshold for significant drift (you can adjust this threshold)\n",
    "    threshold = 0.05\n",
    "\n",
    "    print(p_value)\n",
    "    # Check for data drift\n",
    "    if p_value < threshold:\n",
    "        print(\"Data drift detected!\")\n",
    "    else:\n",
    "        print(\"No significant data drift detected.\")\n",
    "\n",
    "# Sample data (replace with your dataset)\n",
    "part1_data = list(df_test[\"text\"])\n",
    "part2_data = list(df_train[\"text\"])\n",
    "\n",
    "# Detect data drift\n",
    "detect_data_drift(list(df_train['text']), list(df_test['text']))"
   ]
  },
  {
   "cell_type": "code",
   "execution_count": 102,
   "id": "55b02186-bb04-4915-8edd-6f0e8c63f508",
   "metadata": {},
   "outputs": [
    {
     "data": {
      "text/plain": [
       "1.241055368765137"
      ]
     },
     "execution_count": 102,
     "metadata": {},
     "output_type": "execute_result"
    }
   ],
   "source": [
    "period1_text = df_train['text']\n",
    "period2_text = df_test['text']\n",
    "\n",
    "p = vectorizer.transform(period1_text)\n",
    "q = vectorizer.transform(period2_text)\n",
    "\n",
    "# Convert to dense array for Hellinger distance calculation\n",
    "p = p.toarray().mean(axis=0)\n",
    "q = q.toarray().mean(axis=0)\n",
    "np.sqrt(np.sum((np.sqrt(p) - np.sqrt(q))**2)) / np.sqrt(2)"
   ]
  },
  {
   "cell_type": "code",
   "execution_count": null,
   "id": "41b1930c-d7f4-4c1b-b3b7-7ea03849c6ae",
   "metadata": {},
   "outputs": [],
   "source": []
  }
 ],
 "metadata": {
  "kernelspec": {
   "display_name": "Python 3 (ipykernel)",
   "language": "python",
   "name": "python3"
  },
  "language_info": {
   "codemirror_mode": {
    "name": "ipython",
    "version": 3
   },
   "file_extension": ".py",
   "mimetype": "text/x-python",
   "name": "python",
   "nbconvert_exporter": "python",
   "pygments_lexer": "ipython3",
   "version": "3.11.8"
  }
 },
 "nbformat": 4,
 "nbformat_minor": 5
}
