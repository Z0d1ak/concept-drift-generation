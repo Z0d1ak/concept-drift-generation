{
 "cells": [
  {
   "cell_type": "code",
   "execution_count": 1,
   "id": "2fbddbab-1e24-49f1-bfef-49500a3a4ab3",
   "metadata": {},
   "outputs": [],
   "source": [
    "import pandas as pd\n",
    "import numpy as np\n",
    "import urllib.request\n",
    "import requests\n",
    "import pandas as pd\n",
    "import numpy as np\n",
    "from sklearn.linear_model import LinearRegression\n",
    "from sklearn.ensemble import RandomForestRegressor, RandomForestClassifier\n",
    "from sklearn.metrics import mean_squared_error\n",
    "from sklearn.inspection import permutation_importance\n",
    "from sklearn.linear_model import LogisticRegression\n",
    "from sklearn.naive_bayes import BernoulliNB, MultinomialNB \n",
    "from sklearn.linear_model import Perceptron\n",
    "from sklearn.feature_extraction.text import TfidfVectorizer,CountVectorizer\n",
    "import matplotlib.pyplot as plt\n",
    "from sklearn.model_selection import KFold\n",
    "from sklearn.model_selection import cross_validate\n",
    "from sklearn.datasets import make_classification\n",
    "from sklearn.linear_model import LogisticRegression\n",
    "from sklearn.model_selection import train_test_split\n",
    "from sklearn.metrics import roc_curve, auc\n",
    "from sklearn.metrics import roc_auc_score\n",
    "from matplotlib import pyplot as plt\n",
    "from wordcloud import WordCloud, STOPWORDS\n",
    "from sklearn.linear_model import LogisticRegression\n",
    "from sklearn.ensemble import ExtraTreesClassifier\n",
    "from sklearn.datasets import fetch_20newsgroups\n",
    "from sklearn.feature_extraction.text import TfidfVectorizer\n",
    "from sklearn.naive_bayes import MultinomialNB\n",
    "from sklearn.model_selection import train_test_split\n",
    "from sklearn.metrics import accuracy_score, classification_report\n",
    "import re\n",
    "from pymystem3 import Mystem\n",
    "from stop_words import get_stop_words\n",
    "from transformers import pipeline\n",
    "import json\n",
    "import os\n",
    "from os.path import join"
   ]
  },
  {
   "cell_type": "code",
   "execution_count": 2,
   "id": "fbe76c5a-4e0b-4fa0-92b3-1a0c2115306a",
   "metadata": {
    "scrolled": true
   },
   "outputs": [
    {
     "data": {
      "text/html": [
       "<div>\n",
       "<style scoped>\n",
       "    .dataframe tbody tr th:only-of-type {\n",
       "        vertical-align: middle;\n",
       "    }\n",
       "\n",
       "    .dataframe tbody tr th {\n",
       "        vertical-align: top;\n",
       "    }\n",
       "\n",
       "    .dataframe thead th {\n",
       "        text-align: right;\n",
       "    }\n",
       "</style>\n",
       "<table border=\"1\" class=\"dataframe\">\n",
       "  <thead>\n",
       "    <tr style=\"text-align: right;\">\n",
       "      <th></th>\n",
       "      <th>rating</th>\n",
       "      <th>text</th>\n",
       "      <th>req_id</th>\n",
       "      <th>text_converted</th>\n",
       "    </tr>\n",
       "  </thead>\n",
       "  <tbody>\n",
       "    <tr>\n",
       "      <th>0</th>\n",
       "      <td>5.0</td>\n",
       "      <td>Приятное место. Обедали компанией в субботу. М...</td>\n",
       "      <td>norm:Приятное место. Были компанией в субботу....</td>\n",
       "      <td>Приятное место. Были компанией в субботу. Уютн...</td>\n",
       "    </tr>\n",
       "    <tr>\n",
       "      <th>1</th>\n",
       "      <td>4.0</td>\n",
       "      <td>Хорошее кафе, есть для детей игровой уголок и ...</td>\n",
       "      <td>norm:Хорошее кафе, есть для детей игровой угол...</td>\n",
       "      <td>Хорошее кафе, есть для детей игровой уголок и ...</td>\n",
       "    </tr>\n",
       "    <tr>\n",
       "      <th>2</th>\n",
       "      <td>4.0</td>\n",
       "      <td>\\n4 с минусом. Туалет это дичь просто. Если ты...</td>\n",
       "      <td>norm:В туалете проблема: если мужчина встаёт к...</td>\n",
       "      <td>В туалете проблема: если мужчина встаёт к унит...</td>\n",
       "    </tr>\n",
       "    <tr>\n",
       "      <th>3</th>\n",
       "      <td>5.0</td>\n",
       "      <td>Прекрасное заведение и атмосфера. Все было оче...</td>\n",
       "      <td>norm:Прекрасное заведение и атмосфера. Все был...</td>\n",
       "      <td>Прекрасное заведение и атмосфера. Все было оче...</td>\n",
       "    </tr>\n",
       "    <tr>\n",
       "      <th>4</th>\n",
       "      <td>5.0</td>\n",
       "      <td>Вежливый персонал, быстрая скорость отдачи зак...</td>\n",
       "      <td>norm:Вежливый персонал, быстрая скорость отдач...</td>\n",
       "      <td>Вежливый персонал, быстрая скорость отдачи зак...</td>\n",
       "    </tr>\n",
       "    <tr>\n",
       "      <th>...</th>\n",
       "      <td>...</td>\n",
       "      <td>...</td>\n",
       "      <td>...</td>\n",
       "      <td>...</td>\n",
       "    </tr>\n",
       "    <tr>\n",
       "      <th>4995</th>\n",
       "      <td>3.0</td>\n",
       "      <td>Посмотрели на супер отзывы и пришли сюда за Ку...</td>\n",
       "      <td>norm:По отзывам решили заказать куриный шашлык...</td>\n",
       "      <td>По отзывам решили заказать куриный шашлык и са...</td>\n",
       "    </tr>\n",
       "    <tr>\n",
       "      <th>4996</th>\n",
       "      <td>5.0</td>\n",
       "      <td>Любимое место уже на протяжении многих лет ❤️ ...</td>\n",
       "      <td>norm:Любимое место уже на протяжении многих ле...</td>\n",
       "      <td>Любимое место уже на протяжении многих лет ❤️ ...</td>\n",
       "    </tr>\n",
       "    <tr>\n",
       "      <th>4997</th>\n",
       "      <td>5.0</td>\n",
       "      <td>Очень вкусное и свежее пиво по замечательной ц...</td>\n",
       "      <td>norm:Очень вкусное и свежее пиво по замечатель...</td>\n",
       "      <td>Очень вкусное и свежее пиво по замечательной ц...</td>\n",
       "    </tr>\n",
       "    <tr>\n",
       "      <th>4998</th>\n",
       "      <td>5.0</td>\n",
       "      <td>Место не дешевое, но очень уютное. Прекрасный ...</td>\n",
       "      <td>norm:Место не дешёвое, но уютное. Прекрасный п...</td>\n",
       "      <td>Место не дешёвое, но уютное. Прекрасный персон...</td>\n",
       "    </tr>\n",
       "    <tr>\n",
       "      <th>4999</th>\n",
       "      <td>5.0</td>\n",
       "      <td>Недавно посетили это заведение и настолько все...</td>\n",
       "      <td>norm:Были в заведении, всё очень понравилось! ...</td>\n",
       "      <td>Были в заведении, всё очень понравилось! Всё в...</td>\n",
       "    </tr>\n",
       "  </tbody>\n",
       "</table>\n",
       "<p>5000 rows × 4 columns</p>\n",
       "</div>"
      ],
      "text/plain": [
       "      rating                                               text  \\\n",
       "0        5.0  Приятное место. Обедали компанией в субботу. М...   \n",
       "1        4.0  Хорошее кафе, есть для детей игровой уголок и ...   \n",
       "2        4.0  \\n4 с минусом. Туалет это дичь просто. Если ты...   \n",
       "3        5.0  Прекрасное заведение и атмосфера. Все было оче...   \n",
       "4        5.0  Вежливый персонал, быстрая скорость отдачи зак...   \n",
       "...      ...                                                ...   \n",
       "4995     3.0  Посмотрели на супер отзывы и пришли сюда за Ку...   \n",
       "4996     5.0  Любимое место уже на протяжении многих лет ❤️ ...   \n",
       "4997     5.0  Очень вкусное и свежее пиво по замечательной ц...   \n",
       "4998     5.0  Место не дешевое, но очень уютное. Прекрасный ...   \n",
       "4999     5.0  Недавно посетили это заведение и настолько все...   \n",
       "\n",
       "                                                 req_id  \\\n",
       "0     norm:Приятное место. Были компанией в субботу....   \n",
       "1     norm:Хорошее кафе, есть для детей игровой угол...   \n",
       "2     norm:В туалете проблема: если мужчина встаёт к...   \n",
       "3     norm:Прекрасное заведение и атмосфера. Все был...   \n",
       "4     norm:Вежливый персонал, быстрая скорость отдач...   \n",
       "...                                                 ...   \n",
       "4995  norm:По отзывам решили заказать куриный шашлык...   \n",
       "4996  norm:Любимое место уже на протяжении многих ле...   \n",
       "4997  norm:Очень вкусное и свежее пиво по замечатель...   \n",
       "4998  norm:Место не дешёвое, но уютное. Прекрасный п...   \n",
       "4999  norm:Были в заведении, всё очень понравилось! ...   \n",
       "\n",
       "                                         text_converted  \n",
       "0     Приятное место. Были компанией в субботу. Уютн...  \n",
       "1     Хорошее кафе, есть для детей игровой уголок и ...  \n",
       "2     В туалете проблема: если мужчина встаёт к унит...  \n",
       "3     Прекрасное заведение и атмосфера. Все было оче...  \n",
       "4     Вежливый персонал, быстрая скорость отдачи зак...  \n",
       "...                                                 ...  \n",
       "4995  По отзывам решили заказать куриный шашлык и са...  \n",
       "4996  Любимое место уже на протяжении многих лет ❤️ ...  \n",
       "4997  Очень вкусное и свежее пиво по замечательной ц...  \n",
       "4998  Место не дешёвое, но уютное. Прекрасный персон...  \n",
       "4999  Были в заведении, всё очень понравилось! Всё в...  \n",
       "\n",
       "[5000 rows x 4 columns]"
      ]
     },
     "execution_count": 2,
     "metadata": {},
     "output_type": "execute_result"
    }
   ],
   "source": [
    "data_test_filename = join(os.environ[\"HOME\"], \"Datasets/llm_short.csv\")\n",
    "df_test = pd.read_csv(data_test_filename, sep=',', index_col=False)\n",
    "df_test"
   ]
  },
  {
   "cell_type": "code",
   "execution_count": 124,
   "id": "8385710f-e384-42f1-849a-7fc39681301d",
   "metadata": {},
   "outputs": [
    {
     "data": {
      "text/html": [
       "<div>\n",
       "<style scoped>\n",
       "    .dataframe tbody tr th:only-of-type {\n",
       "        vertical-align: middle;\n",
       "    }\n",
       "\n",
       "    .dataframe tbody tr th {\n",
       "        vertical-align: top;\n",
       "    }\n",
       "\n",
       "    .dataframe thead th {\n",
       "        text-align: right;\n",
       "    }\n",
       "</style>\n",
       "<table border=\"1\" class=\"dataframe\">\n",
       "  <thead>\n",
       "    <tr style=\"text-align: right;\">\n",
       "      <th></th>\n",
       "      <th>rating</th>\n",
       "      <th>text</th>\n",
       "      <th>req_id</th>\n",
       "      <th>text_converted</th>\n",
       "    </tr>\n",
       "  </thead>\n",
       "  <tbody>\n",
       "    <tr>\n",
       "      <th>7</th>\n",
       "      <td>1.0</td>\n",
       "      <td>качество персонал оставлять желать хороший при...</td>\n",
       "      <td>norm:Раньше я часто заглядывала в это заведени...</td>\n",
       "      <td>заглядывать заведение желание качество персона...</td>\n",
       "    </tr>\n",
       "    <tr>\n",
       "      <th>28</th>\n",
       "      <td>5.0</td>\n",
       "      <td>семья открывать новый заведение дом rest bar G...</td>\n",
       "      <td>norm:Недавно открыли для себя семейный rest&amp;ba...</td>\n",
       "      <td>открывать семейный rest bar GAVAN располагать ...</td>\n",
       "    </tr>\n",
       "    <tr>\n",
       "      <th>111</th>\n",
       "      <td>3.0</td>\n",
       "      <td>впервые посещать заведение дзержинск область п...</td>\n",
       "      <td>norm:В вашем тексте можно выделить следующие о...</td>\n",
       "      <td>ваш текст выделять следующий основной идея впе...</td>\n",
       "    </tr>\n",
       "    <tr>\n",
       "      <th>147</th>\n",
       "      <td>4.0</td>\n",
       "      <td>постоянно делать покупка разный азбука качеств...</td>\n",
       "      <td>norm:Сотрудники в Азбуке обычно вежливые и кли...</td>\n",
       "      <td>сотрудник азбука вежливый клиентоориентированн...</td>\n",
       "    </tr>\n",
       "    <tr>\n",
       "      <th>188</th>\n",
       "      <td>1.0</td>\n",
       "      <td>избегать точка хинкали приносить холодный знат...</td>\n",
       "      <td>norm:В кафе принесли хинкали холодными, мы сде...</td>\n",
       "      <td>кафе приносить хинкали холодный сделать заказ ...</td>\n",
       "    </tr>\n",
       "    <tr>\n",
       "      <th>...</th>\n",
       "      <td>...</td>\n",
       "      <td>...</td>\n",
       "      <td>...</td>\n",
       "      <td>...</td>\n",
       "    </tr>\n",
       "    <tr>\n",
       "      <th>4946</th>\n",
       "      <td>4.0</td>\n",
       "      <td>впечатление однозначный повезти обслуживание в...</td>\n",
       "      <td>norm:Впечатления разные: от отличного обслужив...</td>\n",
       "      <td>впечатление разный отличный обслуживание спешк...</td>\n",
       "    </tr>\n",
       "    <tr>\n",
       "      <th>4961</th>\n",
       "      <td>1.0</td>\n",
       "      <td>предпринимать 2 попытка посещать данный заведе...</td>\n",
       "      <td>norm:Во время отпуска мы дважды пытались посет...</td>\n",
       "      <td>отпуск дважды пытаться посещать заведение отка...</td>\n",
       "    </tr>\n",
       "    <tr>\n",
       "      <th>4968</th>\n",
       "      <td>5.0</td>\n",
       "      <td>уютный шикарный красивый оригинально поформлят...</td>\n",
       "      <td>norm:Это уютное, красивое заведение в грузинск...</td>\n",
       "      <td>уютный красивый заведение грузинский стиль бла...</td>\n",
       "    </tr>\n",
       "    <tr>\n",
       "      <th>4976</th>\n",
       "      <td>1.0</td>\n",
       "      <td>делать заказ заранее 21 02 понимать 22 02 пред...</td>\n",
       "      <td>norm:**Вот сокращённый текст:**\\n\\nСделали зак...</td>\n",
       "      <td>сокращать текст сделать заказ заранее опоздани...</td>\n",
       "    </tr>\n",
       "    <tr>\n",
       "      <th>4992</th>\n",
       "      <td>5.0</td>\n",
       "      <td>кафе завтрак тип шведский стол кафе гостиница ...</td>\n",
       "      <td>norm:На завтраке в кафе при гостинице 5* были ...</td>\n",
       "      <td>завтрак кафе гостиница 5 нарезка салат смузи о...</td>\n",
       "    </tr>\n",
       "  </tbody>\n",
       "</table>\n",
       "<p>267 rows × 4 columns</p>\n",
       "</div>"
      ],
      "text/plain": [
       "      rating                                               text  \\\n",
       "7        1.0  качество персонал оставлять желать хороший при...   \n",
       "28       5.0  семья открывать новый заведение дом rest bar G...   \n",
       "111      3.0  впервые посещать заведение дзержинск область п...   \n",
       "147      4.0  постоянно делать покупка разный азбука качеств...   \n",
       "188      1.0  избегать точка хинкали приносить холодный знат...   \n",
       "...      ...                                                ...   \n",
       "4946     4.0  впечатление однозначный повезти обслуживание в...   \n",
       "4961     1.0  предпринимать 2 попытка посещать данный заведе...   \n",
       "4968     5.0  уютный шикарный красивый оригинально поформлят...   \n",
       "4976     1.0  делать заказ заранее 21 02 понимать 22 02 пред...   \n",
       "4992     5.0  кафе завтрак тип шведский стол кафе гостиница ...   \n",
       "\n",
       "                                                 req_id  \\\n",
       "7     norm:Раньше я часто заглядывала в это заведени...   \n",
       "28    norm:Недавно открыли для себя семейный rest&ba...   \n",
       "111   norm:В вашем тексте можно выделить следующие о...   \n",
       "147   norm:Сотрудники в Азбуке обычно вежливые и кли...   \n",
       "188   norm:В кафе принесли хинкали холодными, мы сде...   \n",
       "...                                                 ...   \n",
       "4946  norm:Впечатления разные: от отличного обслужив...   \n",
       "4961  norm:Во время отпуска мы дважды пытались посет...   \n",
       "4968  norm:Это уютное, красивое заведение в грузинск...   \n",
       "4976  norm:**Вот сокращённый текст:**\\n\\nСделали зак...   \n",
       "4992  norm:На завтраке в кафе при гостинице 5* были ...   \n",
       "\n",
       "                                         text_converted  \n",
       "7     заглядывать заведение желание качество персона...  \n",
       "28    открывать семейный rest bar GAVAN располагать ...  \n",
       "111   ваш текст выделять следующий основной идея впе...  \n",
       "147   сотрудник азбука вежливый клиентоориентированн...  \n",
       "188   кафе приносить хинкали холодный сделать заказ ...  \n",
       "...                                                 ...  \n",
       "4946  впечатление разный отличный обслуживание спешк...  \n",
       "4961  отпуск дважды пытаться посещать заведение отка...  \n",
       "4968  уютный красивый заведение грузинский стиль бла...  \n",
       "4976  сокращать текст сделать заказ заранее опоздани...  \n",
       "4992  завтрак кафе гостиница 5 нарезка салат смузи о...  \n",
       "\n",
       "[267 rows x 4 columns]"
      ]
     },
     "execution_count": 124,
     "metadata": {},
     "output_type": "execute_result"
    }
   ],
   "source": [
    "mask = df_test[\"text\"].apply(len) > 500\n",
    "\n",
    "# Use the mask to select rows where the condition is True\n",
    "selected_rows = df_test[mask]\n",
    "selected_rows"
   ]
  },
  {
   "cell_type": "code",
   "execution_count": 136,
   "id": "9d88f9b6-44f1-435f-902d-270eae3d16a2",
   "metadata": {},
   "outputs": [
    {
     "name": "stdout",
     "output_type": "stream",
     "text": [
      "вчера отмечать свадьба кухня огонь вкусно атмосфера бал минус звезда официант начало банкет типо шуршать начинать тупить причем жестко грамотный админстиатор следить работа официант заведение иркутск равный поверять практически заведение иркутск сравнивать официант отказывать предостовление чай пожилой человек какой рамка лезть официант наглый термос идти надевать некоторый словесный манипуляция говорить приносить взрослый делать одолжение мелочь смазывать шикарный вечер уровень надеяться руководитель данный заведение обращать внимание факт\n",
      "\n",
      "вчера отмечать свадьба уровень кухня шикарный подводить официант начало банкет шуршать начинать жестко тупить официант отказывать чай пожилой человек замечание обещать обслуживать неохота надеяться руководитель заведение обращать внимание факт\n",
      "\n"
     ]
    }
   ],
   "source": [
    "print(selected_rows.iloc[6]['text'])\n",
    "print(selected_rows.iloc[6]['text_converted'])"
   ]
  },
  {
   "cell_type": "code",
   "execution_count": 141,
   "id": "b1c22359-9da2-466b-a7b6-b81db1701e61",
   "metadata": {},
   "outputs": [
    {
     "name": "stdout",
     "output_type": "stream",
     "text": [
      "25th percentile (Q1): 66.0\n",
      "50th percentile (median): 122.5\n",
      "75th percentile (Q3): 181.0\n"
     ]
    }
   ],
   "source": [
    "quantiles = df_test['text_converted'].apply(len).quantile([0.1, 0.5, 0.9])\n",
    "\n",
    "print(\"25th percentile (Q1):\", quantiles[0.1])\n",
    "print(\"50th percentile (median):\", quantiles[0.5])\n",
    "print(\"75th percentile (Q3):\", quantiles[0.9])"
   ]
  },
  {
   "cell_type": "code",
   "execution_count": 8,
   "id": "27703b51-474a-4dcc-9614-cf78368d7113",
   "metadata": {},
   "outputs": [],
   "source": [
    "df_feltered = df_test[df_test['text_converted'].str.contains('[а-яА-Я]', na=False)]\n",
    "df_test = df_feltered.copy()"
   ]
  },
  {
   "cell_type": "code",
   "execution_count": 9,
   "id": "bf68cc01-e540-4178-b143-fefd8fa687cc",
   "metadata": {},
   "outputs": [
    {
     "data": {
      "text/html": [
       "<div>\n",
       "<style scoped>\n",
       "    .dataframe tbody tr th:only-of-type {\n",
       "        vertical-align: middle;\n",
       "    }\n",
       "\n",
       "    .dataframe tbody tr th {\n",
       "        vertical-align: top;\n",
       "    }\n",
       "\n",
       "    .dataframe thead th {\n",
       "        text-align: right;\n",
       "    }\n",
       "</style>\n",
       "<table border=\"1\" class=\"dataframe\">\n",
       "  <thead>\n",
       "    <tr style=\"text-align: right;\">\n",
       "      <th></th>\n",
       "      <th>rating</th>\n",
       "      <th>text</th>\n",
       "    </tr>\n",
       "  </thead>\n",
       "  <tbody>\n",
       "    <tr>\n",
       "      <th>0</th>\n",
       "      <td>4.0</td>\n",
       "      <td>Ресторан в центре Москвы, в замечательном мест...</td>\n",
       "    </tr>\n",
       "    <tr>\n",
       "      <th>1</th>\n",
       "      <td>4.0</td>\n",
       "      <td>Кухня не плохая, довольно таки вкусно. Но для ...</td>\n",
       "    </tr>\n",
       "    <tr>\n",
       "      <th>2</th>\n",
       "      <td>5.0</td>\n",
       "      <td>Отличный ресторан, попробовали очень много блю...</td>\n",
       "    </tr>\n",
       "    <tr>\n",
       "      <th>3</th>\n",
       "      <td>4.0</td>\n",
       "      <td>Бизнес-встречу здесь планировать провально , а...</td>\n",
       "    </tr>\n",
       "    <tr>\n",
       "      <th>4</th>\n",
       "      <td>5.0</td>\n",
       "      <td>Завтракали в этом ресторане при гостинице. Все...</td>\n",
       "    </tr>\n",
       "    <tr>\n",
       "      <th>...</th>\n",
       "      <td>...</td>\n",
       "      <td>...</td>\n",
       "    </tr>\n",
       "    <tr>\n",
       "      <th>495</th>\n",
       "      <td>3.0</td>\n",
       "      <td>Еда была не вкусная. Тыквенный суп слишком кис...</td>\n",
       "    </tr>\n",
       "    <tr>\n",
       "      <th>496</th>\n",
       "      <td>5.0</td>\n",
       "      <td>Кафе прекрасное. Средний чек на двоих(2000 с ч...</td>\n",
       "    </tr>\n",
       "    <tr>\n",
       "      <th>497</th>\n",
       "      <td>5.0</td>\n",
       "      <td>Просто волшебно, невероятно, бесподобно! \\nСка...</td>\n",
       "    </tr>\n",
       "    <tr>\n",
       "      <th>498</th>\n",
       "      <td>5.0</td>\n",
       "      <td>В данном ресторане люблю бывать. Нравится все:...</td>\n",
       "    </tr>\n",
       "    <tr>\n",
       "      <th>499</th>\n",
       "      <td>5.0</td>\n",
       "      <td>Был с женой на новый год, кстати единственное ...</td>\n",
       "    </tr>\n",
       "  </tbody>\n",
       "</table>\n",
       "<p>500 rows × 2 columns</p>\n",
       "</div>"
      ],
      "text/plain": [
       "     rating                                               text\n",
       "0       4.0  Ресторан в центре Москвы, в замечательном мест...\n",
       "1       4.0  Кухня не плохая, довольно таки вкусно. Но для ...\n",
       "2       5.0  Отличный ресторан, попробовали очень много блю...\n",
       "3       4.0  Бизнес-встречу здесь планировать провально , а...\n",
       "4       5.0  Завтракали в этом ресторане при гостинице. Все...\n",
       "..      ...                                                ...\n",
       "495     3.0  Еда была не вкусная. Тыквенный суп слишком кис...\n",
       "496     5.0  Кафе прекрасное. Средний чек на двоих(2000 с ч...\n",
       "497     5.0  Просто волшебно, невероятно, бесподобно! \\nСка...\n",
       "498     5.0  В данном ресторане люблю бывать. Нравится все:...\n",
       "499     5.0  Был с женой на новый год, кстати единственное ...\n",
       "\n",
       "[500 rows x 2 columns]"
      ]
     },
     "execution_count": 9,
     "metadata": {},
     "output_type": "execute_result"
    }
   ],
   "source": [
    "data_train_filename = join(os.environ[\"HOME\"], \"Datasets/yandex_data_train.csv\")\n",
    "df_train = pd.read_csv(data_train_filename, sep=',', index_col=False, usecols=lambda column: column not in ['Unnamed: 0'])\n",
    "df_train.head(500)"
   ]
  },
  {
   "cell_type": "code",
   "execution_count": 10,
   "id": "124a3390-71ba-418f-9c5f-f8a63b44d64e",
   "metadata": {},
   "outputs": [],
   "source": [
    "stop_words = get_stop_words('russian')\n",
    "def remove_russian_stop_words(text):\n",
    "    words = text.split()\n",
    "    filtered_words = [word for word in words if word.lower() not in stop_words]\n",
    "    return ' '.join(filtered_words)\n",
    "\n",
    "mystem = Mystem()\n",
    "# Function to apply stemming to Russian text\n",
    "def stem_russian_text(text):\n",
    "    tokens = mystem.lemmatize(text)\n",
    "    return ''.join(tokens)\n",
    "\n",
    "\n",
    "def prepare(data, col='text'):\n",
    "    # Step 1: Remove punctuation\n",
    "    data[col] = data[col].apply(lambda x: re.sub(r'[^\\w\\s]', ' ', x))\n",
    "\n",
    "    # Step 2: Remove stop words\n",
    "    data[col] = data[col].apply(remove_russian_stop_words)\n",
    "\n",
    "    # Step 3: Stem words\n",
    "    data[col] = data[col].apply(stem_russian_text)\n"
   ]
  },
  {
   "cell_type": "code",
   "execution_count": 11,
   "id": "71ccf06f-e6cf-4a96-98ca-3e27caf21d23",
   "metadata": {},
   "outputs": [],
   "source": [
    "prepare(df_test)\n",
    "prepare(df_test, 'text_converted')\n",
    "prepare(df_train)"
   ]
  },
  {
   "cell_type": "code",
   "execution_count": 13,
   "id": "02daf0f0-792a-4d66-b7a4-a1b1a46771ac",
   "metadata": {},
   "outputs": [
    {
     "data": {
      "text/plain": [
       "0       приятный место обедать компания суббота место ...\n",
       "1       хороший кафе ребенок игровой уголок детский ме...\n",
       "2       n4 минус туалет дичь мужчина вставать унитаз п...\n",
       "3       прекрасный заведение атмосфера вкусно божестве...\n",
       "4       вежливый персонал быстрый скорость отдача зака...\n",
       "                              ...                        \n",
       "4995    посмотреть супер отзыв приходить сюда куриный ...\n",
       "4996    любимый место протяжение многий подводить обсл...\n",
       "4997    вкусный свежий пиво замечательный цена пкухня ...\n",
       "4998    место дешевый уютный прекрасный персонал кухня...\n",
       "4999    посещать заведение настолько понравиться решат...\n",
       "Name: text, Length: 5000, dtype: object"
      ]
     },
     "execution_count": 13,
     "metadata": {},
     "output_type": "execute_result"
    }
   ],
   "source": [
    "df_test[\"text\"]"
   ]
  },
  {
   "cell_type": "code",
   "execution_count": null,
   "id": "2b32b8e3-f214-4a84-b08d-dcb3f1c0e766",
   "metadata": {},
   "outputs": [],
   "source": [
    "df_test[\"text_ant\"] = df_test['text'].apply(swap_adjectives)"
   ]
  },
  {
   "cell_type": "code",
   "execution_count": 14,
   "id": "7891213e-e1cc-4a21-b763-1625e3d48cdd",
   "metadata": {},
   "outputs": [
    {
     "data": {
      "text/plain": [
       "0       ресторан центр москва замечательный место хоро...\n",
       "1       кухня плохой таки вкусно обстановка подвал дор...\n",
       "2       отличный ресторан попробовать блюдо вкусно пер...\n",
       "3       бизнес встреча планировать провальный проводит...\n",
       "4       завтракать ресторан гостиница невероятно вкусн...\n",
       "                              ...                        \n",
       "4995    отзыв решать заказывать куриный шашлык салат к...\n",
       "4996    любимый место протяжение многий подводить обсл...\n",
       "4997    вкусный свежий пиво замечательный цена кухня в...\n",
       "4998    место дешевый уютный прекрасный персонал вкусн...\n",
       "4999    заведение понравиться вкусно огромный порция н...\n",
       "Length: 74537, dtype: object"
      ]
     },
     "execution_count": 14,
     "metadata": {},
     "output_type": "execute_result"
    }
   ],
   "source": [
    "df_all = pd.concat([df_train['text'], df_test['text'], df_test['text_converted']])\n",
    "df_all"
   ]
  },
  {
   "cell_type": "code",
   "execution_count": 15,
   "id": "b3f8e112-cf72-4357-8504-f26e4f002912",
   "metadata": {},
   "outputs": [
    {
     "data": {
      "text/html": [
       "<style>#sk-container-id-1 {color: black;background-color: white;}#sk-container-id-1 pre{padding: 0;}#sk-container-id-1 div.sk-toggleable {background-color: white;}#sk-container-id-1 label.sk-toggleable__label {cursor: pointer;display: block;width: 100%;margin-bottom: 0;padding: 0.3em;box-sizing: border-box;text-align: center;}#sk-container-id-1 label.sk-toggleable__label-arrow:before {content: \"▸\";float: left;margin-right: 0.25em;color: #696969;}#sk-container-id-1 label.sk-toggleable__label-arrow:hover:before {color: black;}#sk-container-id-1 div.sk-estimator:hover label.sk-toggleable__label-arrow:before {color: black;}#sk-container-id-1 div.sk-toggleable__content {max-height: 0;max-width: 0;overflow: hidden;text-align: left;background-color: #f0f8ff;}#sk-container-id-1 div.sk-toggleable__content pre {margin: 0.2em;color: black;border-radius: 0.25em;background-color: #f0f8ff;}#sk-container-id-1 input.sk-toggleable__control:checked~div.sk-toggleable__content {max-height: 200px;max-width: 100%;overflow: auto;}#sk-container-id-1 input.sk-toggleable__control:checked~label.sk-toggleable__label-arrow:before {content: \"▾\";}#sk-container-id-1 div.sk-estimator input.sk-toggleable__control:checked~label.sk-toggleable__label {background-color: #d4ebff;}#sk-container-id-1 div.sk-label input.sk-toggleable__control:checked~label.sk-toggleable__label {background-color: #d4ebff;}#sk-container-id-1 input.sk-hidden--visually {border: 0;clip: rect(1px 1px 1px 1px);clip: rect(1px, 1px, 1px, 1px);height: 1px;margin: -1px;overflow: hidden;padding: 0;position: absolute;width: 1px;}#sk-container-id-1 div.sk-estimator {font-family: monospace;background-color: #f0f8ff;border: 1px dotted black;border-radius: 0.25em;box-sizing: border-box;margin-bottom: 0.5em;}#sk-container-id-1 div.sk-estimator:hover {background-color: #d4ebff;}#sk-container-id-1 div.sk-parallel-item::after {content: \"\";width: 100%;border-bottom: 1px solid gray;flex-grow: 1;}#sk-container-id-1 div.sk-label:hover label.sk-toggleable__label {background-color: #d4ebff;}#sk-container-id-1 div.sk-serial::before {content: \"\";position: absolute;border-left: 1px solid gray;box-sizing: border-box;top: 0;bottom: 0;left: 50%;z-index: 0;}#sk-container-id-1 div.sk-serial {display: flex;flex-direction: column;align-items: center;background-color: white;padding-right: 0.2em;padding-left: 0.2em;position: relative;}#sk-container-id-1 div.sk-item {position: relative;z-index: 1;}#sk-container-id-1 div.sk-parallel {display: flex;align-items: stretch;justify-content: center;background-color: white;position: relative;}#sk-container-id-1 div.sk-item::before, #sk-container-id-1 div.sk-parallel-item::before {content: \"\";position: absolute;border-left: 1px solid gray;box-sizing: border-box;top: 0;bottom: 0;left: 50%;z-index: -1;}#sk-container-id-1 div.sk-parallel-item {display: flex;flex-direction: column;z-index: 1;position: relative;background-color: white;}#sk-container-id-1 div.sk-parallel-item:first-child::after {align-self: flex-end;width: 50%;}#sk-container-id-1 div.sk-parallel-item:last-child::after {align-self: flex-start;width: 50%;}#sk-container-id-1 div.sk-parallel-item:only-child::after {width: 0;}#sk-container-id-1 div.sk-dashed-wrapped {border: 1px dashed gray;margin: 0 0.4em 0.5em 0.4em;box-sizing: border-box;padding-bottom: 0.4em;background-color: white;}#sk-container-id-1 div.sk-label label {font-family: monospace;font-weight: bold;display: inline-block;line-height: 1.2em;}#sk-container-id-1 div.sk-label-container {text-align: center;}#sk-container-id-1 div.sk-container {/* jupyter's `normalize.less` sets `[hidden] { display: none; }` but bootstrap.min.css set `[hidden] { display: none !important; }` so we also need the `!important` here to be able to override the default hidden behavior on the sphinx rendered scikit-learn.org. See: https://github.com/scikit-learn/scikit-learn/issues/21755 */display: inline-block !important;position: relative;}#sk-container-id-1 div.sk-text-repr-fallback {display: none;}</style><div id=\"sk-container-id-1\" class=\"sk-top-container\"><div class=\"sk-text-repr-fallback\"><pre>TfidfVectorizer()</pre><b>In a Jupyter environment, please rerun this cell to show the HTML representation or trust the notebook. <br />On GitHub, the HTML representation is unable to render, please try loading this page with nbviewer.org.</b></div><div class=\"sk-container\" hidden><div class=\"sk-item\"><div class=\"sk-estimator sk-toggleable\"><input class=\"sk-toggleable__control sk-hidden--visually\" id=\"sk-estimator-id-1\" type=\"checkbox\" checked><label for=\"sk-estimator-id-1\" class=\"sk-toggleable__label sk-toggleable__label-arrow\">TfidfVectorizer</label><div class=\"sk-toggleable__content\"><pre>TfidfVectorizer()</pre></div></div></div></div></div>"
      ],
      "text/plain": [
       "TfidfVectorizer()"
      ]
     },
     "execution_count": 15,
     "metadata": {},
     "output_type": "execute_result"
    }
   ],
   "source": [
    "vectorizer = TfidfVectorizer()\n",
    "vectorizer.fit(df_all)"
   ]
  },
  {
   "cell_type": "code",
   "execution_count": 113,
   "id": "f5e26581-e9a0-4ccd-adab-35cb16171563",
   "metadata": {},
   "outputs": [],
   "source": [
    "X_train = vectorizer.transform(df_train['text'])\n",
    "y_train = df_train['rating'].apply(lambda x: x > 4)\n",
    "\n",
    "X_test = vectorizer.transform(df_test['text'])\n",
    "X_drift_tesst = vectorizer.transform(df_test['text_converted'])\n",
    "y_test = df_test['rating'].apply(lambda x: x > 4)"
   ]
  },
  {
   "cell_type": "code",
   "execution_count": 114,
   "id": "3ddf8ed3-07a8-4054-a1d2-fa7671a02fbc",
   "metadata": {},
   "outputs": [
    {
     "data": {
      "text/html": [
       "<style>#sk-container-id-33 {color: black;background-color: white;}#sk-container-id-33 pre{padding: 0;}#sk-container-id-33 div.sk-toggleable {background-color: white;}#sk-container-id-33 label.sk-toggleable__label {cursor: pointer;display: block;width: 100%;margin-bottom: 0;padding: 0.3em;box-sizing: border-box;text-align: center;}#sk-container-id-33 label.sk-toggleable__label-arrow:before {content: \"▸\";float: left;margin-right: 0.25em;color: #696969;}#sk-container-id-33 label.sk-toggleable__label-arrow:hover:before {color: black;}#sk-container-id-33 div.sk-estimator:hover label.sk-toggleable__label-arrow:before {color: black;}#sk-container-id-33 div.sk-toggleable__content {max-height: 0;max-width: 0;overflow: hidden;text-align: left;background-color: #f0f8ff;}#sk-container-id-33 div.sk-toggleable__content pre {margin: 0.2em;color: black;border-radius: 0.25em;background-color: #f0f8ff;}#sk-container-id-33 input.sk-toggleable__control:checked~div.sk-toggleable__content {max-height: 200px;max-width: 100%;overflow: auto;}#sk-container-id-33 input.sk-toggleable__control:checked~label.sk-toggleable__label-arrow:before {content: \"▾\";}#sk-container-id-33 div.sk-estimator input.sk-toggleable__control:checked~label.sk-toggleable__label {background-color: #d4ebff;}#sk-container-id-33 div.sk-label input.sk-toggleable__control:checked~label.sk-toggleable__label {background-color: #d4ebff;}#sk-container-id-33 input.sk-hidden--visually {border: 0;clip: rect(1px 1px 1px 1px);clip: rect(1px, 1px, 1px, 1px);height: 1px;margin: -1px;overflow: hidden;padding: 0;position: absolute;width: 1px;}#sk-container-id-33 div.sk-estimator {font-family: monospace;background-color: #f0f8ff;border: 1px dotted black;border-radius: 0.25em;box-sizing: border-box;margin-bottom: 0.5em;}#sk-container-id-33 div.sk-estimator:hover {background-color: #d4ebff;}#sk-container-id-33 div.sk-parallel-item::after {content: \"\";width: 100%;border-bottom: 1px solid gray;flex-grow: 1;}#sk-container-id-33 div.sk-label:hover label.sk-toggleable__label {background-color: #d4ebff;}#sk-container-id-33 div.sk-serial::before {content: \"\";position: absolute;border-left: 1px solid gray;box-sizing: border-box;top: 0;bottom: 0;left: 50%;z-index: 0;}#sk-container-id-33 div.sk-serial {display: flex;flex-direction: column;align-items: center;background-color: white;padding-right: 0.2em;padding-left: 0.2em;position: relative;}#sk-container-id-33 div.sk-item {position: relative;z-index: 1;}#sk-container-id-33 div.sk-parallel {display: flex;align-items: stretch;justify-content: center;background-color: white;position: relative;}#sk-container-id-33 div.sk-item::before, #sk-container-id-33 div.sk-parallel-item::before {content: \"\";position: absolute;border-left: 1px solid gray;box-sizing: border-box;top: 0;bottom: 0;left: 50%;z-index: -1;}#sk-container-id-33 div.sk-parallel-item {display: flex;flex-direction: column;z-index: 1;position: relative;background-color: white;}#sk-container-id-33 div.sk-parallel-item:first-child::after {align-self: flex-end;width: 50%;}#sk-container-id-33 div.sk-parallel-item:last-child::after {align-self: flex-start;width: 50%;}#sk-container-id-33 div.sk-parallel-item:only-child::after {width: 0;}#sk-container-id-33 div.sk-dashed-wrapped {border: 1px dashed gray;margin: 0 0.4em 0.5em 0.4em;box-sizing: border-box;padding-bottom: 0.4em;background-color: white;}#sk-container-id-33 div.sk-label label {font-family: monospace;font-weight: bold;display: inline-block;line-height: 1.2em;}#sk-container-id-33 div.sk-label-container {text-align: center;}#sk-container-id-33 div.sk-container {/* jupyter's `normalize.less` sets `[hidden] { display: none; }` but bootstrap.min.css set `[hidden] { display: none !important; }` so we also need the `!important` here to be able to override the default hidden behavior on the sphinx rendered scikit-learn.org. See: https://github.com/scikit-learn/scikit-learn/issues/21755 */display: inline-block !important;position: relative;}#sk-container-id-33 div.sk-text-repr-fallback {display: none;}</style><div id=\"sk-container-id-33\" class=\"sk-top-container\"><div class=\"sk-text-repr-fallback\"><pre>MultinomialNB(alpha=0.2)</pre><b>In a Jupyter environment, please rerun this cell to show the HTML representation or trust the notebook. <br />On GitHub, the HTML representation is unable to render, please try loading this page with nbviewer.org.</b></div><div class=\"sk-container\" hidden><div class=\"sk-item\"><div class=\"sk-estimator sk-toggleable\"><input class=\"sk-toggleable__control sk-hidden--visually\" id=\"sk-estimator-id-33\" type=\"checkbox\" checked><label for=\"sk-estimator-id-33\" class=\"sk-toggleable__label sk-toggleable__label-arrow\">MultinomialNB</label><div class=\"sk-toggleable__content\"><pre>MultinomialNB(alpha=0.2)</pre></div></div></div></div></div>"
      ],
      "text/plain": [
       "MultinomialNB(alpha=0.2)"
      ]
     },
     "execution_count": 114,
     "metadata": {},
     "output_type": "execute_result"
    }
   ],
   "source": [
    "clf = MultinomialNB(alpha=0.2)\n",
    "clf.fit(X_train, y_train)"
   ]
  },
  {
   "cell_type": "code",
   "execution_count": 115,
   "id": "f300037f-0c0b-4171-a3e2-39eab357c756",
   "metadata": {},
   "outputs": [
    {
     "name": "stdout",
     "output_type": "stream",
     "text": [
      "Accuracy: 0.8842\n",
      "              precision    recall  f1-score   support\n",
      "\n",
      "  Not 5 star       0.90      0.58      0.71      1200\n",
      "      5 star       0.88      0.98      0.93      3800\n",
      "\n",
      "    accuracy                           0.88      5000\n",
      "   macro avg       0.89      0.78      0.82      5000\n",
      "weighted avg       0.89      0.88      0.87      5000\n",
      "\n"
     ]
    }
   ],
   "source": [
    "# NO DRIFT\n",
    "y_pred = clf.predict(X_test)\n",
    "\n",
    "# Step 6: Evaluate the model\n",
    "accuracy = accuracy_score(y_test, y_pred)\n",
    "print(\"Accuracy:\", accuracy)\n",
    "print(classification_report(y_test, y_pred, target_names=[\"Not 5 star\", \"5 star\"]))"
   ]
  },
  {
   "cell_type": "code",
   "execution_count": 116,
   "id": "ed2c4214-6f52-45d1-ae42-6cb3b009726d",
   "metadata": {},
   "outputs": [
    {
     "name": "stdout",
     "output_type": "stream",
     "text": [
      "Accuracy: 0.8644\n",
      "              precision    recall  f1-score   support\n",
      "\n",
      "  Not 5 star       0.94      0.47      0.62      1200\n",
      "      5 star       0.85      0.99      0.92      3800\n",
      "\n",
      "    accuracy                           0.86      5000\n",
      "   macro avg       0.89      0.73      0.77      5000\n",
      "weighted avg       0.87      0.86      0.85      5000\n",
      "\n"
     ]
    }
   ],
   "source": [
    "#  DRIFT\n",
    "y_pred = clf.predict(X_drift_tesst)\n",
    "\n",
    "# Step 6: Evaluate the model\n",
    "accuracy = accuracy_score(y_test, y_pred)\n",
    "print(\"Accuracy:\", accuracy)\n",
    "print(classification_report(y_test, y_pred, target_names=[\"Not 5 star\", \"5 star\"]))"
   ]
  },
  {
   "cell_type": "code",
   "execution_count": 117,
   "id": "89a9a85d-4597-45a2-8fe4-04681bb27e8e",
   "metadata": {},
   "outputs": [],
   "source": [
    "X_test_retrain, X_test_30, y_test_retrain, y_test_30 = train_test_split(X_drift_tesst, y_test, test_size=0.3, random_state=42)"
   ]
  },
  {
   "cell_type": "code",
   "execution_count": 118,
   "id": "de86cd3d-7c83-4c21-abde-8f19d051cf48",
   "metadata": {},
   "outputs": [
    {
     "data": {
      "text/html": [
       "<style>#sk-container-id-34 {color: black;background-color: white;}#sk-container-id-34 pre{padding: 0;}#sk-container-id-34 div.sk-toggleable {background-color: white;}#sk-container-id-34 label.sk-toggleable__label {cursor: pointer;display: block;width: 100%;margin-bottom: 0;padding: 0.3em;box-sizing: border-box;text-align: center;}#sk-container-id-34 label.sk-toggleable__label-arrow:before {content: \"▸\";float: left;margin-right: 0.25em;color: #696969;}#sk-container-id-34 label.sk-toggleable__label-arrow:hover:before {color: black;}#sk-container-id-34 div.sk-estimator:hover label.sk-toggleable__label-arrow:before {color: black;}#sk-container-id-34 div.sk-toggleable__content {max-height: 0;max-width: 0;overflow: hidden;text-align: left;background-color: #f0f8ff;}#sk-container-id-34 div.sk-toggleable__content pre {margin: 0.2em;color: black;border-radius: 0.25em;background-color: #f0f8ff;}#sk-container-id-34 input.sk-toggleable__control:checked~div.sk-toggleable__content {max-height: 200px;max-width: 100%;overflow: auto;}#sk-container-id-34 input.sk-toggleable__control:checked~label.sk-toggleable__label-arrow:before {content: \"▾\";}#sk-container-id-34 div.sk-estimator input.sk-toggleable__control:checked~label.sk-toggleable__label {background-color: #d4ebff;}#sk-container-id-34 div.sk-label input.sk-toggleable__control:checked~label.sk-toggleable__label {background-color: #d4ebff;}#sk-container-id-34 input.sk-hidden--visually {border: 0;clip: rect(1px 1px 1px 1px);clip: rect(1px, 1px, 1px, 1px);height: 1px;margin: -1px;overflow: hidden;padding: 0;position: absolute;width: 1px;}#sk-container-id-34 div.sk-estimator {font-family: monospace;background-color: #f0f8ff;border: 1px dotted black;border-radius: 0.25em;box-sizing: border-box;margin-bottom: 0.5em;}#sk-container-id-34 div.sk-estimator:hover {background-color: #d4ebff;}#sk-container-id-34 div.sk-parallel-item::after {content: \"\";width: 100%;border-bottom: 1px solid gray;flex-grow: 1;}#sk-container-id-34 div.sk-label:hover label.sk-toggleable__label {background-color: #d4ebff;}#sk-container-id-34 div.sk-serial::before {content: \"\";position: absolute;border-left: 1px solid gray;box-sizing: border-box;top: 0;bottom: 0;left: 50%;z-index: 0;}#sk-container-id-34 div.sk-serial {display: flex;flex-direction: column;align-items: center;background-color: white;padding-right: 0.2em;padding-left: 0.2em;position: relative;}#sk-container-id-34 div.sk-item {position: relative;z-index: 1;}#sk-container-id-34 div.sk-parallel {display: flex;align-items: stretch;justify-content: center;background-color: white;position: relative;}#sk-container-id-34 div.sk-item::before, #sk-container-id-34 div.sk-parallel-item::before {content: \"\";position: absolute;border-left: 1px solid gray;box-sizing: border-box;top: 0;bottom: 0;left: 50%;z-index: -1;}#sk-container-id-34 div.sk-parallel-item {display: flex;flex-direction: column;z-index: 1;position: relative;background-color: white;}#sk-container-id-34 div.sk-parallel-item:first-child::after {align-self: flex-end;width: 50%;}#sk-container-id-34 div.sk-parallel-item:last-child::after {align-self: flex-start;width: 50%;}#sk-container-id-34 div.sk-parallel-item:only-child::after {width: 0;}#sk-container-id-34 div.sk-dashed-wrapped {border: 1px dashed gray;margin: 0 0.4em 0.5em 0.4em;box-sizing: border-box;padding-bottom: 0.4em;background-color: white;}#sk-container-id-34 div.sk-label label {font-family: monospace;font-weight: bold;display: inline-block;line-height: 1.2em;}#sk-container-id-34 div.sk-label-container {text-align: center;}#sk-container-id-34 div.sk-container {/* jupyter's `normalize.less` sets `[hidden] { display: none; }` but bootstrap.min.css set `[hidden] { display: none !important; }` so we also need the `!important` here to be able to override the default hidden behavior on the sphinx rendered scikit-learn.org. See: https://github.com/scikit-learn/scikit-learn/issues/21755 */display: inline-block !important;position: relative;}#sk-container-id-34 div.sk-text-repr-fallback {display: none;}</style><div id=\"sk-container-id-34\" class=\"sk-top-container\"><div class=\"sk-text-repr-fallback\"><pre>MultinomialNB(alpha=0.2)</pre><b>In a Jupyter environment, please rerun this cell to show the HTML representation or trust the notebook. <br />On GitHub, the HTML representation is unable to render, please try loading this page with nbviewer.org.</b></div><div class=\"sk-container\" hidden><div class=\"sk-item\"><div class=\"sk-estimator sk-toggleable\"><input class=\"sk-toggleable__control sk-hidden--visually\" id=\"sk-estimator-id-34\" type=\"checkbox\" checked><label for=\"sk-estimator-id-34\" class=\"sk-toggleable__label sk-toggleable__label-arrow\">MultinomialNB</label><div class=\"sk-toggleable__content\"><pre>MultinomialNB(alpha=0.2)</pre></div></div></div></div></div>"
      ],
      "text/plain": [
       "MultinomialNB(alpha=0.2)"
      ]
     },
     "execution_count": 118,
     "metadata": {},
     "output_type": "execute_result"
    }
   ],
   "source": [
    "clf.partial_fit(X_test_retrain, y_test_retrain)"
   ]
  },
  {
   "cell_type": "code",
   "execution_count": 119,
   "id": "f39d70a4-5dcd-469b-939c-7ab87a818b88",
   "metadata": {},
   "outputs": [
    {
     "name": "stdout",
     "output_type": "stream",
     "text": [
      "Accuracy: 0.878\n",
      "              precision    recall  f1-score   support\n",
      "\n",
      "  Not 5 star       0.92      0.52      0.66       348\n",
      "      5 star       0.87      0.99      0.93      1152\n",
      "\n",
      "    accuracy                           0.88      1500\n",
      "   macro avg       0.90      0.75      0.79      1500\n",
      "weighted avg       0.88      0.88      0.86      1500\n",
      "\n"
     ]
    }
   ],
   "source": [
    "y_pred = clf.predict(X_test_30)\n",
    "\n",
    "# Step 6: Evaluate the model\n",
    "accuracy = accuracy_score(y_test_30, y_pred)\n",
    "print(\"Accuracy:\", accuracy)\n",
    "print(classification_report(y_test_30, y_pred, target_names=[\"Not 5 star\", \"5 star\"]))"
   ]
  },
  {
   "cell_type": "code",
   "execution_count": 120,
   "id": "fca734ae-8305-4a41-9eac-763035b44967",
   "metadata": {},
   "outputs": [
    {
     "name": "stdout",
     "output_type": "stream",
     "text": [
      "Accuracy: 0.9062\n",
      "              precision    recall  f1-score   support\n",
      "\n",
      "  Not 5 star       0.92      0.66      0.77      1200\n",
      "      5 star       0.90      0.98      0.94      3800\n",
      "\n",
      "    accuracy                           0.91      5000\n",
      "   macro avg       0.91      0.82      0.86      5000\n",
      "weighted avg       0.91      0.91      0.90      5000\n",
      "\n"
     ]
    }
   ],
   "source": [
    "# NO DRIFT\n",
    "y_pred = clf.predict(X_test)\n",
    "\n",
    "# Step 6: Evaluate the model\n",
    "accuracy = accuracy_score(y_test, y_pred)\n",
    "print(\"Accuracy:\", accuracy)\n",
    "print(classification_report(y_test, y_pred, target_names=[\"Not 5 star\", \"5 star\"]))"
   ]
  },
  {
   "cell_type": "code",
   "execution_count": 142,
   "id": "55b02186-bb04-4915-8edd-6f0e8c63f508",
   "metadata": {},
   "outputs": [
    {
     "data": {
      "text/plain": [
       "0.5728830336540907"
      ]
     },
     "execution_count": 142,
     "metadata": {},
     "output_type": "execute_result"
    }
   ],
   "source": [
    "period1_text = df_train['text']\n",
    "period2_text = df_test['text']\n",
    "\n",
    "p = vectorizer.transform(period1_text)\n",
    "q = vectorizer.transform(period2_text)\n",
    "\n",
    "# Convert to dense array for Hellinger distance calculation\n",
    "p = p.toarray().mean(axis=0)\n",
    "q = q.toarray().mean(axis=0)\n",
    "np.sqrt(np.sum((np.sqrt(p) - np.sqrt(q))**2)) / np.sqrt(2)"
   ]
  },
  {
   "cell_type": "code",
   "execution_count": 122,
   "id": "23a89909-ac91-4037-b9cb-9a96da684701",
   "metadata": {},
   "outputs": [
    {
     "data": {
      "text/plain": [
       "5.21409626826448e-13"
      ]
     },
     "execution_count": 122,
     "metadata": {},
     "output_type": "execute_result"
    }
   ],
   "source": [
    "import pandas as pd\n",
    "from collections import Counter\n",
    "import numpy as np\n",
    "from scipy.stats import ks_2samp\n",
    "\n",
    "def calculate_word_frequencies(text_data):\n",
    "    # Tokenize text and count word frequencies\n",
    "    tokenized_text = [word for sentence in text_data for word in sentence.split()]\n",
    "    word_freq = Counter(tokenized_text)\n",
    "    return word_freq\n",
    "\n",
    "def detect_data_drift(part1_data, part2_data):\n",
    "    # Calculate word frequencies for each part\n",
    "    part1_word_freq = calculate_word_frequencies(part1_data)\n",
    "    part2_word_freq = calculate_word_frequencies(part2_data)\n",
    "\n",
    "    # Extract word frequencies and sort by word\n",
    "    part1_word_freq_values = np.array(list(part1_word_freq.values()))\n",
    "    part2_word_freq_values = np.array(list(part2_word_freq.values()))\n",
    "\n",
    "    # Calculate Kolmogorov-Smirnov statistic\n",
    "    ks_statistic, p_value = ks_2samp(part1_word_freq_values, part2_word_freq_values)\n",
    "\n",
    "    # Define a threshold for significant drift (you can adjust this threshold)\n",
    "    threshold = 0.05\n",
    "    return p_value\n",
    "\n",
    "    # Check for data drift\n",
    "    if p_value < threshold:\n",
    "        print(\"Data drift detected!\")\n",
    "    else:\n",
    "        print(\"No significant data drift detected.\")\n",
    "\n",
    "# Sample data (replace with your dataset)\n",
    "part1_data = list(df_train['text'])\n",
    "part2_data = list(df_test['text'])\n",
    "\n",
    "# Detect data drift\n",
    "detect_data_drift(part1_data, part2_data)"
   ]
  },
  {
   "cell_type": "code",
   "execution_count": null,
   "id": "9f7d12f2-9217-403d-a972-29d7f8e9a97c",
   "metadata": {},
   "outputs": [],
   "source": []
  }
 ],
 "metadata": {
  "kernelspec": {
   "display_name": "Python 3 (ipykernel)",
   "language": "python",
   "name": "python3"
  },
  "language_info": {
   "codemirror_mode": {
    "name": "ipython",
    "version": 3
   },
   "file_extension": ".py",
   "mimetype": "text/x-python",
   "name": "python",
   "nbconvert_exporter": "python",
   "pygments_lexer": "ipython3",
   "version": "3.11.8"
  }
 },
 "nbformat": 4,
 "nbformat_minor": 5
}
