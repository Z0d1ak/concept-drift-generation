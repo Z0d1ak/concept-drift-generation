{
 "cells": [
  {
   "cell_type": "code",
   "execution_count": 132,
   "id": "afc43647",
   "metadata": {},
   "outputs": [],
   "source": [
    "import urllib.request\n",
    "import requests\n",
    "import pandas as pd\n",
    "import numpy as np\n",
    "from transformers import pipeline"
   ]
  },
  {
   "cell_type": "code",
   "execution_count": 133,
   "id": "4b9194ff",
   "metadata": {},
   "outputs": [],
   "source": [
    "import os\n",
    "from os.path import join"
   ]
  },
  {
   "cell_type": "code",
   "execution_count": 134,
   "id": "3420c9f0",
   "metadata": {},
   "outputs": [
    {
     "data": {
      "text/plain": [
       "'/Users/k0tarak'"
      ]
     },
     "execution_count": 134,
     "metadata": {},
     "output_type": "execute_result"
    }
   ],
   "source": [
    "os.environ[\"HOME\"]"
   ]
  },
  {
   "cell_type": "code",
   "execution_count": 135,
   "id": "15f0b830",
   "metadata": {},
   "outputs": [],
   "source": [
    "data_test_filename = join(os.environ[\"HOME\"], \"Datasets/yandex_data_for_llm.csv\")\n",
    "df = pd.read_csv(data_test_filename, sep=',', index_col=False, usecols=lambda column: column not in ['Unnamed: 0'])"
   ]
  },
  {
   "cell_type": "code",
   "execution_count": 136,
   "id": "9d0af522",
   "metadata": {},
   "outputs": [
    {
     "data": {
      "text/html": [
       "<div>\n",
       "<style scoped>\n",
       "    .dataframe tbody tr th:only-of-type {\n",
       "        vertical-align: middle;\n",
       "    }\n",
       "\n",
       "    .dataframe tbody tr th {\n",
       "        vertical-align: top;\n",
       "    }\n",
       "\n",
       "    .dataframe thead th {\n",
       "        text-align: right;\n",
       "    }\n",
       "</style>\n",
       "<table border=\"1\" class=\"dataframe\">\n",
       "  <thead>\n",
       "    <tr style=\"text-align: right;\">\n",
       "      <th></th>\n",
       "      <th>rating</th>\n",
       "      <th>text</th>\n",
       "    </tr>\n",
       "  </thead>\n",
       "  <tbody>\n",
       "    <tr>\n",
       "      <th>0</th>\n",
       "      <td>5.0</td>\n",
       "      <td>Приятное место. Обедали компанией в субботу. М...</td>\n",
       "    </tr>\n",
       "    <tr>\n",
       "      <th>1</th>\n",
       "      <td>4.0</td>\n",
       "      <td>Хорошее кафе, есть для детей игровой уголок и ...</td>\n",
       "    </tr>\n",
       "    <tr>\n",
       "      <th>2</th>\n",
       "      <td>4.0</td>\n",
       "      <td>\\n4 с минусом. Туалет это дичь просто. Если ты...</td>\n",
       "    </tr>\n",
       "    <tr>\n",
       "      <th>3</th>\n",
       "      <td>5.0</td>\n",
       "      <td>Прекрасное заведение и атмосфера. Все было оче...</td>\n",
       "    </tr>\n",
       "    <tr>\n",
       "      <th>4</th>\n",
       "      <td>5.0</td>\n",
       "      <td>Вежливый персонал, быстрая скорость отдачи зак...</td>\n",
       "    </tr>\n",
       "    <tr>\n",
       "      <th>...</th>\n",
       "      <td>...</td>\n",
       "      <td>...</td>\n",
       "    </tr>\n",
       "    <tr>\n",
       "      <th>4995</th>\n",
       "      <td>3.0</td>\n",
       "      <td>Посмотрели на супер отзывы и пришли сюда за Ку...</td>\n",
       "    </tr>\n",
       "    <tr>\n",
       "      <th>4996</th>\n",
       "      <td>5.0</td>\n",
       "      <td>Любимое место уже на протяжении многих лет ❤️ ...</td>\n",
       "    </tr>\n",
       "    <tr>\n",
       "      <th>4997</th>\n",
       "      <td>5.0</td>\n",
       "      <td>Очень вкусное и свежее пиво по замечательной ц...</td>\n",
       "    </tr>\n",
       "    <tr>\n",
       "      <th>4998</th>\n",
       "      <td>5.0</td>\n",
       "      <td>Место не дешевое, но очень уютное. Прекрасный ...</td>\n",
       "    </tr>\n",
       "    <tr>\n",
       "      <th>4999</th>\n",
       "      <td>5.0</td>\n",
       "      <td>Недавно посетили это заведение и настолько все...</td>\n",
       "    </tr>\n",
       "  </tbody>\n",
       "</table>\n",
       "<p>5000 rows × 2 columns</p>\n",
       "</div>"
      ],
      "text/plain": [
       "      rating                                               text\n",
       "0        5.0  Приятное место. Обедали компанией в субботу. М...\n",
       "1        4.0  Хорошее кафе, есть для детей игровой уголок и ...\n",
       "2        4.0  \\n4 с минусом. Туалет это дичь просто. Если ты...\n",
       "3        5.0  Прекрасное заведение и атмосфера. Все было оче...\n",
       "4        5.0  Вежливый персонал, быстрая скорость отдачи зак...\n",
       "...      ...                                                ...\n",
       "4995     3.0  Посмотрели на супер отзывы и пришли сюда за Ку...\n",
       "4996     5.0  Любимое место уже на протяжении многих лет ❤️ ...\n",
       "4997     5.0  Очень вкусное и свежее пиво по замечательной ц...\n",
       "4998     5.0  Место не дешевое, но очень уютное. Прекрасный ...\n",
       "4999     5.0  Недавно посетили это заведение и настолько все...\n",
       "\n",
       "[5000 rows x 2 columns]"
      ]
     },
     "execution_count": 136,
     "metadata": {},
     "output_type": "execute_result"
    }
   ],
   "source": [
    "df.head(5000)"
   ]
  },
  {
   "cell_type": "code",
   "execution_count": 137,
   "id": "9cc976bc",
   "metadata": {},
   "outputs": [
    {
     "data": {
      "text/plain": [
       "'Приятное место. Обедали компанией в субботу. Места были. Симпатичный и уютный интерьер. Кухня разная но в целом вкусная и оригинальная. Цены Москва, может процентов на 15 дешевле в среднем. Интересно, что официанты очень молодые, даже подростки, пожалуй. Их обслуживание оставило сложные впечатления...смесь раздражения и умиления. В общем рекомендую к посещению'"
      ]
     },
     "execution_count": 137,
     "metadata": {},
     "output_type": "execute_result"
    }
   ],
   "source": [
    "df['text'][0]"
   ]
  },
  {
   "cell_type": "code",
   "execution_count": 138,
   "id": "12dde46d",
   "metadata": {},
   "outputs": [],
   "source": [
    "iam = ''\n",
    "folder = ''"
   ]
  },
  {
   "cell_type": "code",
   "execution_count": 221,
   "id": "7d4f2b32",
   "metadata": {},
   "outputs": [],
   "source": [
    "def get_request(text, command):\n",
    "    return {\n",
    "      \"modelUri\": \"gpt://b1gv6dqj1vfsrufpk96p/yandexgpt/latest\",\n",
    "      \"completionOptions\": {\n",
    "        \"stream\": False,\n",
    "        \"temperature\": 1,\n",
    "        \"maxTokens\": \"2000\"\n",
    "      },\n",
    "      \"messages\": [\n",
    "        {\n",
    "          \"role\": \"system\",\n",
    "          \"text\": command\n",
    "        },\n",
    "        {\n",
    "          \"role\": \"user\",\n",
    "          \"text\": text\n",
    "        }\n",
    "      ]\n",
    "    };\n",
    "\n",
    "def get_header():\n",
    "    return {\n",
    "        'Content-Type': 'application/json',\n",
    "        'Authorization': 'Bearer ' + iam,\n",
    "        'x-folder-id': folder\n",
    "    }\n",
    "\n",
    "command = \"Сократи текст до 200 символов сохранив смысл.\"\n"
   ]
  },
  {
   "cell_type": "code",
   "execution_count": 195,
   "id": "f2fc023a-304c-4ab0-b6e0-412919686dbb",
   "metadata": {},
   "outputs": [],
   "source": [
    "text = 'Приятное место. Обедали компанией в субботу. Места были. Симпатичный и уютный интерьер. Кухня разная но в целом вкусная и оригинальная. Цены Москва, может процентов на 15 дешевле в среднем. Интересно, что официанты очень молодые, даже подростки, пожалуй. Их обслуживание оставило сложные впечатления...смесь раздражения и умиления. В общем рекомендую к посещению'\n",
    "########В субботу обедали компанией. Приятное заведение с симпатичным интерьером. Уютная атмосфера и вкусная кухня. Цены, как в Москве, на 15 % ниже.\\n\\nОбслуживание оставили смешанные чувства: молодые официанты вызывали и раздражение, и умиление. Рекомендую к посещению\n"
   ]
  },
  {
   "cell_type": "code",
   "execution_count": 222,
   "id": "75c9dd7c-c366-4d4e-867c-103326163844",
   "metadata": {},
   "outputs": [],
   "source": [
    "r = requests.post('https://llm.api.cloud.yandex.net/foundationModels/v1/completion', json=get_request(text, command), headers=get_header())"
   ]
  },
  {
   "cell_type": "code",
   "execution_count": 150,
   "id": "61cfd45f",
   "metadata": {},
   "outputs": [],
   "source": [
    "r = requests.post('https://llm.api.cloud.yandex.net/foundationModels/v1/completionAsync', json=get_request(text, command), headers=get_header())"
   ]
  },
  {
   "cell_type": "code",
   "execution_count": 223,
   "id": "fd7d3b92",
   "metadata": {},
   "outputs": [
    {
     "data": {
      "text/plain": [
       "<Response [200]>"
      ]
     },
     "execution_count": 223,
     "metadata": {},
     "output_type": "execute_result"
    }
   ],
   "source": [
    "r"
   ]
  },
  {
   "cell_type": "code",
   "execution_count": 224,
   "id": "27a9a5c9-793e-4ade-ab0e-e80dc19b2a69",
   "metadata": {},
   "outputs": [
    {
     "data": {
      "text/plain": [
       "{'result': {'alternatives': [{'message': {'role': 'assistant',\n",
       "     'text': 'Были компанией в субботу, обедали в приятном месте. Симпатичный интерьер, вкусная кухня. Цены на 15% ниже московских. Официанты — подростки, обслуживание неоднозначное. Рекомендую к посещению.'},\n",
       "    'status': 'ALTERNATIVE_STATUS_FINAL'}],\n",
       "  'usage': {'inputTextTokens': '98',\n",
       "   'completionTokens': '45',\n",
       "   'totalTokens': '143'},\n",
       "  'modelVersion': '07.03.2024'}}"
      ]
     },
     "execution_count": 224,
     "metadata": {},
     "output_type": "execute_result"
    }
   ],
   "source": [
    "r.json()"
   ]
  },
  {
   "cell_type": "code",
   "execution_count": 175,
   "id": "dbb9c1a6-f755-4af8-829e-4b026f3ff81f",
   "metadata": {},
   "outputs": [
    {
     "ename": "KeyError",
     "evalue": "'id'",
     "output_type": "error",
     "traceback": [
      "\u001b[0;31m---------------------------------------------------------------------------\u001b[0m",
      "\u001b[0;31mKeyError\u001b[0m                                  Traceback (most recent call last)",
      "Cell \u001b[0;32mIn[175], line 1\u001b[0m\n\u001b[0;32m----> 1\u001b[0m resp \u001b[38;5;241m=\u001b[39m requests\u001b[38;5;241m.\u001b[39mget(\u001b[38;5;124m'\u001b[39m\u001b[38;5;124mhttps://llm.api.cloud.yandex.net/operations/\u001b[39m\u001b[38;5;124m'\u001b[39m\u001b[38;5;241m+\u001b[39m r\u001b[38;5;241m.\u001b[39mjson()[\u001b[38;5;124m'\u001b[39m\u001b[38;5;124mid\u001b[39m\u001b[38;5;124m'\u001b[39m], headers\u001b[38;5;241m=\u001b[39mget_header())\n",
      "\u001b[0;31mKeyError\u001b[0m: 'id'"
     ]
    }
   ],
   "source": [
    "resp = requests.get('https://llm.api.cloud.yandex.net/operations/'+ r.json()['id'], headers=get_header())"
   ]
  },
  {
   "cell_type": "code",
   "execution_count": 169,
   "id": "2681c361-2653-47ca-a385-93c5168a5982",
   "metadata": {},
   "outputs": [
    {
     "data": {
      "text/plain": [
       "{'id': 'd7qljd2m1ren6djnc7e1',\n",
       " 'description': 'Async GPT Completion',\n",
       " 'createdAt': '2024-05-11T14:36:31Z',\n",
       " 'createdBy': 'aje2l3p3tt2rr9h5qq3e',\n",
       " 'modifiedAt': '2024-05-11T14:36:31Z',\n",
       " 'done': False,\n",
       " 'metadata': None}"
      ]
     },
     "execution_count": 169,
     "metadata": {},
     "output_type": "execute_result"
    }
   ],
   "source": [
    "resp.json()"
   ]
  },
  {
   "cell_type": "code",
   "execution_count": 158,
   "id": "3d27873e-ab28-4f74-9221-901154fe3d92",
   "metadata": {},
   "outputs": [
    {
     "name": "stdout",
     "output_type": "stream",
     "text": [
      "Original text: Приятное место. Обедали компанией в субботу. Места были. Симпатичный и уютный интерьер. Кухня разная но в целом вкусная и оригинальная. Цены Москва, может процентов на 15 дешевле в среднем. Интересно, что официанты очень молодые, даже подростки, пожалуй. Их обслуживание оставило сложные впечатления...смесь раздражения и умиления. В общем рекомендую к посещению\n",
      "\n"
     ]
    },
    {
     "ename": "KeyError",
     "evalue": "'response'",
     "output_type": "error",
     "traceback": [
      "\u001b[0;31m---------------------------------------------------------------------------\u001b[0m",
      "\u001b[0;31mKeyError\u001b[0m                                  Traceback (most recent call last)",
      "Cell \u001b[0;32mIn[158], line 3\u001b[0m\n\u001b[1;32m      1\u001b[0m \u001b[38;5;28mprint\u001b[39m(\u001b[38;5;124m\"\u001b[39m\u001b[38;5;124mOriginal text: \u001b[39m\u001b[38;5;124m\"\u001b[39m \u001b[38;5;241m+\u001b[39m text)\n\u001b[1;32m      2\u001b[0m \u001b[38;5;28mprint\u001b[39m(\u001b[38;5;124m\"\u001b[39m\u001b[38;5;124m\"\u001b[39m)\n\u001b[0;32m----> 3\u001b[0m \u001b[38;5;28mprint\u001b[39m(\u001b[38;5;124m\"\u001b[39m\u001b[38;5;124mGenerated text: \u001b[39m\u001b[38;5;124m\"\u001b[39m \u001b[38;5;241m+\u001b[39m resp\u001b[38;5;241m.\u001b[39mjson()[\u001b[38;5;124m\"\u001b[39m\u001b[38;5;124mresponse\u001b[39m\u001b[38;5;124m\"\u001b[39m][\u001b[38;5;124m'\u001b[39m\u001b[38;5;124malternatives\u001b[39m\u001b[38;5;124m'\u001b[39m][\u001b[38;5;241m0\u001b[39m][\u001b[38;5;124m'\u001b[39m\u001b[38;5;124mmessage\u001b[39m\u001b[38;5;124m'\u001b[39m][\u001b[38;5;124m'\u001b[39m\u001b[38;5;124mtext\u001b[39m\u001b[38;5;124m'\u001b[39m])\n",
      "\u001b[0;31mKeyError\u001b[0m: 'response'"
     ]
    }
   ],
   "source": [
    "\n",
    "print(\"Original text: \" + text)\n",
    "print(\"\")\n",
    "print(\"Generated text: \" + resp.json()[\"response\"]['alternatives'][0]['message']['text'])"
   ]
  },
  {
   "cell_type": "code",
   "execution_count": 74,
   "id": "17cbf639-34e4-4a75-8a2b-d15a8975c1b6",
   "metadata": {},
   "outputs": [],
   "source": [
    "df_transform = df.copy()"
   ]
  },
  {
   "cell_type": "code",
   "execution_count": 96,
   "id": "58a71377-50a6-4c2b-8130-af7b90c176a8",
   "metadata": {},
   "outputs": [],
   "source": [
    "count = 1\n",
    "def convert(text):\n",
    "    global count\n",
    "\n",
    "    try:\n",
    "        if count % 50 == 0:\n",
    "            print(count)\n",
    "        count+=1;\n",
    "        response = requests.post('https://llm.api.cloud.yandex.net/foundationModels/v1/completionAsync', json=get_request(text, command), headers=get_header())\n",
    "        return response.json()['id']\n",
    "    except Exception as e:\n",
    "        print(\"An exception occurred:\", e)\n",
    "\n",
    "    return \"\""
   ]
  },
  {
   "cell_type": "code",
   "execution_count": null,
   "id": "dbb00ed6-4c9a-48a5-a4d9-0c1d1e17f09e",
   "metadata": {},
   "outputs": [],
   "source": [
    "\n",
    "df_transform[\"req_id\"] = df_transform[\"text\"].apply(convert)"
   ]
  },
  {
   "cell_type": "code",
   "execution_count": 111,
   "id": "6c3e2b31-292a-4b6f-9432-50ee263b9e05",
   "metadata": {},
   "outputs": [
    {
     "data": {
      "text/html": [
       "<div>\n",
       "<style scoped>\n",
       "    .dataframe tbody tr th:only-of-type {\n",
       "        vertical-align: middle;\n",
       "    }\n",
       "\n",
       "    .dataframe tbody tr th {\n",
       "        vertical-align: top;\n",
       "    }\n",
       "\n",
       "    .dataframe thead th {\n",
       "        text-align: right;\n",
       "    }\n",
       "</style>\n",
       "<table border=\"1\" class=\"dataframe\">\n",
       "  <thead>\n",
       "    <tr style=\"text-align: right;\">\n",
       "      <th></th>\n",
       "      <th>rating</th>\n",
       "      <th>text</th>\n",
       "      <th>req_id</th>\n",
       "    </tr>\n",
       "  </thead>\n",
       "  <tbody>\n",
       "    <tr>\n",
       "      <th>4900</th>\n",
       "      <td>5.0</td>\n",
       "      <td>Очень понравилось, отличное заведение!\\nОчень ...</td>\n",
       "      <td>d7qodeaihmesl94cc68r</td>\n",
       "    </tr>\n",
       "    <tr>\n",
       "      <th>4901</th>\n",
       "      <td>1.0</td>\n",
       "      <td>Отзыв именно по организатору \"Зеленая лампа\" в...</td>\n",
       "      <td>d7qqpf7jg1277latdltm</td>\n",
       "    </tr>\n",
       "    <tr>\n",
       "      <th>4902</th>\n",
       "      <td>5.0</td>\n",
       "      <td>Уютно и приятно. Вежливый персонал , тепло. Ко...</td>\n",
       "      <td>d7qom00ua3kq8vo94u5b</td>\n",
       "    </tr>\n",
       "    <tr>\n",
       "      <th>4903</th>\n",
       "      <td>5.0</td>\n",
       "      <td>Вполне приемлемо для ранга столовых. В зале оч...</td>\n",
       "      <td>d7qi2p3uivpnih74cdvl</td>\n",
       "    </tr>\n",
       "    <tr>\n",
       "      <th>4904</th>\n",
       "      <td>5.0</td>\n",
       "      <td>Хороший интерьер, вежливые персонал. Но ценник...</td>\n",
       "      <td>d7qvc9a3mrb1r6fvg58q</td>\n",
       "    </tr>\n",
       "    <tr>\n",
       "      <th>...</th>\n",
       "      <td>...</td>\n",
       "      <td>...</td>\n",
       "      <td>...</td>\n",
       "    </tr>\n",
       "    <tr>\n",
       "      <th>4995</th>\n",
       "      <td>3.0</td>\n",
       "      <td>Посмотрели на супер отзывы и пришли сюда за Ку...</td>\n",
       "      <td>d7q4fgje6f5aehqvu1p2</td>\n",
       "    </tr>\n",
       "    <tr>\n",
       "      <th>4996</th>\n",
       "      <td>5.0</td>\n",
       "      <td>Любимое место уже на протяжении многих лет ❤️ ...</td>\n",
       "      <td>d7quqlv85ppkv8vs7hsr</td>\n",
       "    </tr>\n",
       "    <tr>\n",
       "      <th>4997</th>\n",
       "      <td>5.0</td>\n",
       "      <td>Очень вкусное и свежее пиво по замечательной ц...</td>\n",
       "      <td>d7qja44vtt4jiocquitj</td>\n",
       "    </tr>\n",
       "    <tr>\n",
       "      <th>4998</th>\n",
       "      <td>5.0</td>\n",
       "      <td>Место не дешевое, но очень уютное. Прекрасный ...</td>\n",
       "      <td>d7qo97i695n56i6n7i8e</td>\n",
       "    </tr>\n",
       "    <tr>\n",
       "      <th>4999</th>\n",
       "      <td>5.0</td>\n",
       "      <td>Недавно посетили это заведение и настолько все...</td>\n",
       "      <td>d7q14gsjh7vehva07fj7</td>\n",
       "    </tr>\n",
       "  </tbody>\n",
       "</table>\n",
       "<p>100 rows × 3 columns</p>\n",
       "</div>"
      ],
      "text/plain": [
       "      rating                                               text  \\\n",
       "4900     5.0  Очень понравилось, отличное заведение!\\nОчень ...   \n",
       "4901     1.0  Отзыв именно по организатору \"Зеленая лампа\" в...   \n",
       "4902     5.0  Уютно и приятно. Вежливый персонал , тепло. Ко...   \n",
       "4903     5.0  Вполне приемлемо для ранга столовых. В зале оч...   \n",
       "4904     5.0  Хороший интерьер, вежливые персонал. Но ценник...   \n",
       "...      ...                                                ...   \n",
       "4995     3.0  Посмотрели на супер отзывы и пришли сюда за Ку...   \n",
       "4996     5.0  Любимое место уже на протяжении многих лет ❤️ ...   \n",
       "4997     5.0  Очень вкусное и свежее пиво по замечательной ц...   \n",
       "4998     5.0  Место не дешевое, но очень уютное. Прекрасный ...   \n",
       "4999     5.0  Недавно посетили это заведение и настолько все...   \n",
       "\n",
       "                    req_id  \n",
       "4900  d7qodeaihmesl94cc68r  \n",
       "4901  d7qqpf7jg1277latdltm  \n",
       "4902  d7qom00ua3kq8vo94u5b  \n",
       "4903  d7qi2p3uivpnih74cdvl  \n",
       "4904  d7qvc9a3mrb1r6fvg58q  \n",
       "...                    ...  \n",
       "4995  d7q4fgje6f5aehqvu1p2  \n",
       "4996  d7quqlv85ppkv8vs7hsr  \n",
       "4997  d7qja44vtt4jiocquitj  \n",
       "4998  d7qo97i695n56i6n7i8e  \n",
       "4999  d7q14gsjh7vehva07fj7  \n",
       "\n",
       "[100 rows x 3 columns]"
      ]
     },
     "execution_count": 111,
     "metadata": {},
     "output_type": "execute_result"
    }
   ],
   "source": [
    "df_transform.tail(100)"
   ]
  },
  {
   "cell_type": "code",
   "execution_count": 125,
   "id": "943b6e59-98c6-46a6-8fc7-97c755ee9a28",
   "metadata": {},
   "outputs": [],
   "source": [
    "count = 1\n",
    "\n",
    "def get_result(id):\n",
    "    global count\n",
    "    if count % 50 == 0:\n",
    "        print(count)\n",
    "\n",
    "    count +=1\n",
    "    try:\n",
    "        response = requests.get('https://llm.api.cloud.yandex.net/operations/'+ id, headers=get_header())\n",
    "        return response.json()[\"response\"]['alternatives'][0]['message']['text']\n",
    "    except Exception as e:\n",
    "        print(\"An exception occurred:\", e)\n",
    "\n",
    "    return \"\""
   ]
  },
  {
   "cell_type": "code",
   "execution_count": null,
   "id": "6232ea1f-cbfe-45f7-8c04-50dfce81be3b",
   "metadata": {},
   "outputs": [],
   "source": [
    "df_transform[\"text_converted\"] = df_transform[\"req_id\"].apply(get_result)"
   ]
  },
  {
   "cell_type": "code",
   "execution_count": 122,
   "id": "ba13d246-8116-427b-ae04-7e8f5f361a5a",
   "metadata": {},
   "outputs": [
    {
     "data": {
      "text/plain": [
       "<Response [200]>"
      ]
     },
     "execution_count": 122,
     "metadata": {},
     "output_type": "execute_result"
    }
   ],
   "source": [
    "response = requests.get('https://llm.api.cloud.yandex.net/operations/'+ 'd7qodeaihmesl94cc68r', headers=get_header())\n",
    "#response.json()[\"response\"]['alternatives'][0]['message']['text']\n",
    "response"
   ]
  },
  {
   "cell_type": "code",
   "execution_count": null,
   "id": "13f70ecd-579b-4277-ba56-20a9bd9ed365",
   "metadata": {},
   "outputs": [],
   "source": [
    "df_transform[\"text_converted\"]"
   ]
  },
  {
   "cell_type": "code",
   "execution_count": null,
   "id": "71d45bd2-17a3-42cf-93f0-6384e866d9d0",
   "metadata": {},
   "outputs": [],
   "source": [
    "filtered_df = df_transform.dropna(subset=['text_converted'])\n",
    "filtered_df"
   ]
  },
  {
   "cell_type": "code",
   "execution_count": 131,
   "id": "546617ef-99e4-425f-8762-9c1521ad4231",
   "metadata": {},
   "outputs": [],
   "source": [
    "import json\n",
    "\n",
    "file_path = join(os.environ[\"HOME\"], \"Datasets/llm_antonyms.csv\")\n",
    "\n",
    "# Save the dictionary as a JSON file\n",
    "filtered_df.to_csv(file_path, index=False)"
   ]
  },
  {
   "cell_type": "code",
   "execution_count": null,
   "id": "fff1d5e9-dd5e-4b55-9730-1210af2b5e58",
   "metadata": {},
   "outputs": [],
   "source": []
  }
 ],
 "metadata": {
  "kernelspec": {
   "display_name": "Python 3 (ipykernel)",
   "language": "python",
   "name": "python3"
  },
  "language_info": {
   "codemirror_mode": {
    "name": "ipython",
    "version": 3
   },
   "file_extension": ".py",
   "mimetype": "text/x-python",
   "name": "python",
   "nbconvert_exporter": "python",
   "pygments_lexer": "ipython3",
   "version": "3.11.8"
  }
 },
 "nbformat": 4,
 "nbformat_minor": 5
}
