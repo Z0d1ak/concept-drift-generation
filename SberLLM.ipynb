{
 "cells": [
  {
   "cell_type": "code",
   "execution_count": 3,
   "id": "8f5f51fa",
   "metadata": {},
   "outputs": [],
   "source": [
    "from langchain.prompts import load_prompt\n",
    "from langchain.chat_models.gigachat import GigaChat"
   ]
  },
  {
   "cell_type": "code",
   "execution_count": 4,
   "id": "4853ed3c",
   "metadata": {},
   "outputs": [],
   "source": [
    "import ssl\n",
    "\n",
    "ssl._create_default_https_context = ssl._create_unverified_context"
   ]
  },
  {
   "cell_type": "code",
   "execution_count": null,
   "id": "ca5a4791-4a85-4109-9387-9829e55ce5e9",
   "metadata": {},
   "outputs": [],
   "source": [
    "import requests\n",
    "\n",
    "url = \"https://ngw.devices.sberbank.ru:9443/api/v2/oauth\"\n",
    "\n",
    "payload='scope=GIGACHAT_API_PERS'\n",
    "headers = {\n",
    "  'Content-Type': 'application/x-www-form-urlencoded',\n",
    "  'Accept': 'application/json',\n",
    "  'RqUID': '',\n",
    "  'Authorization': ''\n",
    "}\n",
    "\n",
    "response = requests.request(\"POST\", url, headers=headers, data=payload, verify=False)\n",
    "print(response.json())\n",
    "token = response.json()['access_token']\n",
    "print(token)"
   ]
  },
  {
   "cell_type": "code",
   "execution_count": 7,
   "id": "213e39d4",
   "metadata": {},
   "outputs": [],
   "source": [
    "text = 'Приятное место. Обедали компанией в субботу. Места были. Симпатичный и уютный интерьер. Кухня разная но в целом вкусная и оригинальная. Цены Москва, может процентов на 15 дешевле в среднем. Интересно, что официанты очень молодые, даже подростки, пожалуй. Их обслуживание оставило сложные впечатления...смесь раздражения и умиления. В общем рекомендую к посещению'\n"
   ]
  },
  {
   "cell_type": "code",
   "execution_count": 8,
   "id": "f2c84a47",
   "metadata": {},
   "outputs": [],
   "source": [
    "cred = \"\""
   ]
  },
  {
   "cell_type": "code",
   "execution_count": 42,
   "id": "345100a2",
   "metadata": {},
   "outputs": [],
   "source": [
    "giga = GigaChat(credentials=cred, verify_ssl_certs=False, model='GigaChat-Pro')\n",
    "\n",
    "prompt = load_prompt(\"text_rewrite.yaml\")\n",
    "chain = prompt | giga\n"
   ]
  },
  {
   "cell_type": "code",
   "execution_count": 43,
   "id": "6336532d",
   "metadata": {},
   "outputs": [
    {
     "name": "stdout",
     "output_type": "stream",
     "text": [
      "Original text: Приятное место. Обедали компанией в субботу. Места были. Симпатичный и уютный интерьер. Кухня разная но в целом вкусная и оригинальная. Цены Москва, может процентов на 15 дешевле в среднем. Интересно, что официанты очень молодые, даже подростки, пожалуй. Их обслуживание оставило сложные впечатления...смесь раздражения и умиления. В общем рекомендую к посещению\n",
      "\n",
      "Generated text: \"Приятное место для обеда с компанией, особенно в субботу. Симпатичный интерьер, разнообразная кухня, цены немного ниже московских. Официанты - подростки, их обслуживание вызывает смешанные чувства. Рекомендую посетить.\"\n"
     ]
    }
   ],
   "source": [
    "gen = chain.invoke(\n",
    "    {\n",
    "        \"text\": text,\n",
    "    }\n",
    ").content\n",
    "\n",
    "print(\"Original text: \" + text)\n",
    "print(\"\")\n",
    "print(\"Generated text: \" + gen)"
   ]
  },
  {
   "cell_type": "code",
   "execution_count": 37,
   "id": "aa435bea",
   "metadata": {},
   "outputs": [
    {
     "name": "stdout",
     "output_type": "stream",
     "text": [
      "Original text: Приятное место. Обедали компанией в субботу. Места были. Симпатичный и уютный интерьер. Кухня разная но в целом вкусная и оригинальная. Цены Москва, может процентов на 15 дешевле в среднем. Интересно, что официанты очень молодые, даже подростки, пожалуй. Их обслуживание оставило сложные впечатления...смесь раздражения и умиления. В общем рекомендую к посещению\n",
      "\n",
      "Generated text: Неприятное место. Ужинали компанией в воскресенье. Места были. Несимпатичный и неуютный интерьер. Кухня разная, но в целом невкусная и неинтересная. Цены Москва, может процентов на 15 дороже в среднем. Интересно, что официанты очень старые, даже пенсионеры, пожалуй. Их обслуживание оставило смешанные впечатления...смесь раздражения и умиления. В общем не рекомендую к посещению\n"
     ]
    }
   ],
   "source": [
    "print(\"Original text: \" + text)\n",
    "print(\"\")\n",
    "print(\"Generated text: \" + gen)"
   ]
  },
  {
   "cell_type": "code",
   "execution_count": null,
   "id": "4277854f",
   "metadata": {},
   "outputs": [],
   "source": []
  },
  {
   "cell_type": "code",
   "execution_count": null,
   "id": "fd90063a",
   "metadata": {},
   "outputs": [],
   "source": []
  }
 ],
 "metadata": {
  "kernelspec": {
   "display_name": "Python 3 (ipykernel)",
   "language": "python",
   "name": "python3"
  },
  "language_info": {
   "codemirror_mode": {
    "name": "ipython",
    "version": 3
   },
   "file_extension": ".py",
   "mimetype": "text/x-python",
   "name": "python",
   "nbconvert_exporter": "python",
   "pygments_lexer": "ipython3",
   "version": "3.11.8"
  }
 },
 "nbformat": 4,
 "nbformat_minor": 5
}
